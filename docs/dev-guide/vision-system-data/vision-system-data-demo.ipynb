{
 "cells": [
  {
   "cell_type": "markdown",
   "metadata": {},
   "source": [
    "# Amazon IoT Fleetwise for vision system data collection and transformation\n",
    "\n",
    "**Note:** AWS IoT FleetWise is currently available in `us-east-1` and `eu-central-1`.\n",
    "\n",
    "AWS IoT FleetWise is a managed service that you can use to collect vehicle data and organize it in\n",
    "the cloud. With AWS IoT FleetWise, you can standardize all of your vehicle data models, independent\n",
    "of the in-vehicle communication architecture. You can also define data collection rules to transfer\n",
    "only high-value data to the cloud. AWS IoT FleetWise can be used to process collected data, gain\n",
    "insights about a vehicle's health, and help diagnose and troubleshoot potential issues with your\n",
    "vehicles.\n",
    "\n",
    "Additionally, AWS IoT FleetWise provides the capability to collect ECU data and store them on cloud\n",
    "databases. You can utilize different AWS services (Eg: Amazon QuickSight for analytics and Amazon\n",
    "SageMaker for machine learning) to develop novel use cases that augment your existing vehicle\n",
    "functionality. In particular, AWS IoT FleetWise can leverage fleet data (big data) and help you\n",
    "develop use cases that create business value. For example, AWS IoT FleetWise can be used to improve\n",
    "electric vehicle range estimation, optimize battery life charging, and optimize vehicle routing.\n",
    "\n",
    "For more information, see\n",
    "[What is AWS IoT FleetWise?](https://docs.aws.amazon.com/iot-fleetwise/latest/developerguide/) in\n",
    "the _AWS IoT FleetWise Developer Guide_.\n",
    "\n",
    "IoT FleetWise is comprised of two components, an open-source software called the \"Reference\n",
    "Implementation for AWS IoT FleetWise\" (FWE) running on Linux-based hardware in the vehicle and the\n",
    "IoT FleetWise cloud where you can create cloud resources to model, select, and collect vehicle data.\n",
    "\n",
    "Vision system data collection plays a crucial role in the automotive industry, particularly in the\n",
    "development of advanced driver assistance systems (ADAS), autonomous vehicles, and vehicle\n",
    "diagnostics. Different sources of data in the data collection are Sensors like Lidar, Radar, Camera,\n",
    "Ultrasonic sensors, IMU, GPS, OBD, and more. This data is then used for Data fusion to create a\n",
    "comprehensive and accurate representation of the vehicle's environment. This is crucial for making\n",
    "real-time decisions in ADAS and autonomous driving systems.\n",
    "\n",
    "## Problem statement\n",
    "\n",
    "Data Variety, Data quality, Compliance and Data Governance are challenges with growing standards in\n",
    "the industry.\n",
    "\n",
    "Vision system data extraction is a time consuming task for Original Equipment Manufacturers (OEMs)\n",
    "and Tier-1s. Scenario-based data collection is a hard requirement for many ADAS related features\n",
    "like accident detection which requires low latency for vehicle-to-everything (V2X) related use\n",
    "cases.\n",
    "\n",
    "## Basics and understanding VSS and Vision System Data\n",
    "\n",
    "VSS (Vehicle Signal Specification) primarily resembles the physical structure of the vehicle, so\n",
    "there often isn't a need to repeat branches and data entries (like doors or axles). There isn't one\n",
    "ADAS camera or controller manufacturer in the automotive industry, and OEMs use different vendors or\n",
    "the same OEM may use different vendors for different vehicle models. AWS IoT FleetWise provides an\n",
    "advantage because with VSS standardization, you can bring your own Interface Definition Language\n",
    "(IDL) environment. An IDL is used to define the interfaces, properties, and behaviors of software\n",
    "components or systems, allowing for communication and interoperability between different software\n",
    "modules. You can then have signals defined as per VSS standard, and the signals can be reused with\n",
    "any fleet.\n",
    "\n",
    "To demonstrate the key Vision System Data API and data collection functionality, we will use a\n",
    "standard Robot Operating System (ROS 2) message,\n",
    "[sensor_msgs/msg/CompressedImage](https://docs.ros2.org/galactic/api/sensor_msgs/msg/CompressedImage.html),\n",
    "published on the ROS topic `/Cameras/Front/Image`. This message is defined as:\n",
    "\n",
    "<pre>\n",
    "<a href=\"https://docs.ros2.org/galactic/api/std_msgs/msg/Header.html\">sensor_msgs/msg/CompressedImage.msg</a>:\n",
    "\n",
    "   <a href=\"https://docs.ros2.org/galactic/api/std_msgs/msg/Header.html\">std_msgs/msg/Header</a> header\n",
    "      <a href=\"https://docs.ros2.org/galactic/api/builtin_interfaces/msg/Time.html\">builtin_interfaces/msg/Time</a> stamp\n",
    "         int32 sec\n",
    "         uint32 nanosec\n",
    "      string frame_id\n",
    "   string format\n",
    "   uint8[] data\n",
    "</pre>\n",
    "\n",
    "The example message contains several data types: strings, int32, uint32, and dynamic-size array of\n",
    "uint8. It also has the header message nested inside. Vision system data API supports all ROS 2 field\n",
    "types, including all types of arrays. For more information, see\n",
    "[https://docs.ros.org/en/galactic/Concepts/About-ROS-Interfaces.html#field-types](https://docs.ros.org/en/galactic/Concepts/About-ROS-Interfaces.html#field-types).\n",
    "Field default values are ignored by the API modeling and data collection. The constants are not\n",
    "supported by the API modeling.\n",
    "\n",
    "**Vision System Data API** enables the collection of data transmitted as **ROS 2 messages**. This\n",
    "can be data collected from camera, radar, lidar, or other sensors - or any corresponding metadata.\n",
    "\n",
    "ROS 2 message format is a crucial part of the ROS 2 communication system, enabling different nodes\n",
    "to exchange data and information in a standardized and efficient manner. It plays a central role in\n",
    "the inter-process communication that is fundamental to the ROS 2 framework's operation in automotive\n",
    "applications. This guide will walk you through the vision system data APIs and demonstrate data\n",
    "collection using an example standard message.\n",
    "\n",
    "## Understanding Signal Catalog\n",
    "\n",
    "ROS 2 messages are modeled using four essential VSS components:\n",
    "\n",
    "- **Branch**: a branch is a tree node that contains other nodes. It can be a simple branch or a\n",
    "  struct that has children nodes.\n",
    "\n",
    "- **Sensor**: A sensor is a modeled primitive or complex value that is collected from the vehicle.\n",
    "  For ROS 2, the ROS topic is modeled as a sensor, such as `/Cameras/Front/Image`.\n",
    "\n",
    "- **Struct**: A structure (or struct) is a signal that is described by multiple values. For ROS 2,\n",
    "  the ROS message is modeled as a struct (like `sensor_msgs/msg/CompressedImage.msg`,\n",
    "  `std_msgs/msg/Header.msg`, or `builtin_interfaces/msg/Time.msg`).\n",
    "\n",
    "  _Note: A struct can't be a top level member. It must be a member of a branch._\n",
    "\n",
    "- **Property**: a struct member. For ROS 2, every message field is modeled as a property. It can be\n",
    "  a primitive data type, such as UINT8, or another struct (like `header`, `stamp`, `sec`, `nanosec`,\n",
    "  `frame_id`, `format`, or `data`).\n",
    "\n",
    "Properties have field **dataEncoding**, that can be either `TYPED` or `BINARY`. Only properties of\n",
    "type `UINT8_ARRAY` and `STRING` can be declared as `BINARY`. If you want to have fields for a ROS 2\n",
    "message of type `uint8[]` being stored as a binary file that is separate from the rest of the\n",
    "message, you can declare the fields as `BINARY`. The output JSON or Apache Parquet file contains a\n",
    "link to the binary file, which is stored in the Amazon S3 bucket as a field value.\n",
    "\n",
    "### Approach\n",
    "\n",
    "In this demo, we will start with a sample ROS 2 message and then abstract user from all the internal\n",
    "calls (Create, Read, Update, Delete) and perform the transformation. The output JSON/Parquet file is\n",
    "then visualized.\n",
    "\n",
    "1. Prepare a sample ROS 2 message to demonstrate and understand the API\n",
    "2. Create a network-interfaces.json file\n",
    "3. Generate the CreateSignalCatalog API input\n",
    "4. Generate CreateDecoderManifest API input\n",
    "5. Create or update a signal catalog\n",
    "6. Create and activate a model manifest (vehicle model)\n",
    "7. Create and activate a decoder manifest\n",
    "8. Create and activate a campaign to collect ROS 2 data\n",
    "9. Visualize data using Python libraries\n",
    "\n",
    "## Prerequisites\n",
    "\n",
    "- Access to an AWS account with administrator privileges.\n",
    "- Signed in to the AWS IoT FleetWise console in the `us-east-1` Region using the account with\n",
    "  administrator privileges.\n",
    "- (Optional) IDL files and their corresponding ROS 2 bag (rosbag) files are available\n",
    "\n",
    "## Scope\n",
    "\n",
    "This guide demonstrates the Reference Implementation for AWS IoT FleetWise (\"FWE\") functionality for\n",
    "'vision system data' using a [ROS 2 Galactic](https://docs.ros.org/en/galactic/) data source.\n",
    "\n",
    "The following diagram illustrates the dataflow and artifacts consumed and produced by this demo:\n",
    "\n",
    "![Vision system data demo diagram](vision-system-data-demo-diagram.jpg)\n",
    "\n",
    "## Launch your development machine\n",
    "\n",
    "Use the following instructions to launch an AWS EC2 Graviton (arm64) instance with a jupyter-lab\n",
    "server, and follow the step-by-step jupyter notebook. Pricing for EC2 can be found,\n",
    "[here](https://aws.amazon.com/ec2/pricing/on-demand/).\n",
    "\n",
    "1. Launch an EC2 Graviton instance with administrator permissions:\n",
    "   [**Launch CloudFormation Template**](https://us-east-1.console.aws.amazon.com/cloudformation/home?region=us-east-1#/stacks/quickcreate?templateUrl=https%3A%2F%2Faws-iot-fleetwise.s3.us-west-2.amazonaws.com%2Flatest%2Fcfn-templates%2Fvision-system-data-jupyter.yml&stackName=fwdev-jupyter).\n",
    "1. **Select the checkbox** next to _'I acknowledge that AWS CloudFormation might create IAM\n",
    "   resources with custom names.'_\n",
    "1. Choose **Create stack**.\n",
    "1. Wait until the status of the Stack is **CREATE_COMPLETE**; this can take up to ten minutes.\n",
    "1. For security purposes, the created stack does not expose the jupyter server to the internet.\n",
    "   Instead, you will have to create an ssh port forwarding to you EC2 instance from your local\n",
    "   machine. Execute the following from a local terminal, replacing `<NAME-OF-YOUR-KEY>` and\n",
    "   `<IP-OF-EC2-INSTANCE>`:\n",
    "   ```bash\n",
    "   chmod 400 <NAME-OF-YOUR-KEY>.pem\n",
    "   ssh -i <NAME-OF-YOUR-KEY>.pem -N -L 8888:localhost:8888 ubuntu@<IP-OF-EC2-INSTANCE>\n",
    "   ```\n",
    "1. With the ssh port forward set up, select the **Outputs** tab, and click on the link corresponding\n",
    "   to `WebAccessWithPortForwarding`. This will automatically log you into the server. Note that by\n",
    "   default, the `WebAccess` link will not be accessible as the default security group prevents\n",
    "   public http access.\n",
    "1. Once logged in, click on `vision-system-data-demo.ipynb` from the left navigation bar to start\n",
    "   the interactive demo"
   ]
  },
  {
   "cell_type": "markdown",
   "metadata": {
    "tags": []
   },
   "source": [
    "<div class=\"alert alert-block alert-info\">\n",
    "Note: At this point, you can start executing the rest of the notebook on your own jupyter instance.\n",
    "</div>"
   ]
  },
  {
   "cell_type": "markdown",
   "metadata": {
    "tags": []
   },
   "source": [
    "Update your AWS CLI to enable support for vision system data."
   ]
  },
  {
   "cell_type": "code",
   "execution_count": null,
   "metadata": {
    "tags": []
   },
   "outputs": [],
   "source": [
    "cd\n",
    "curl \"https://awscli.amazonaws.com/awscli-exe-linux-aarch64.zip\" -o \"awscliv2.zip\"\n",
    "unzip -q awscliv2.zip\n",
    "sudo ./aws/install --update\n",
    "if ! ( aws iotfleetwise create-decoder-manifest help | grep -q ros2 ); then\n",
    "    echo \"Error: The AWS CLI does not support the vision system data feature.\" >&2\n",
    "    echo \"       Delete any local model installed at ~/.aws/models/iotfleetwise\" >&2\n",
    "    kill -SIGINT $$\n",
    "fi"
   ]
  },
  {
   "cell_type": "markdown",
   "metadata": {},
   "source": [
    "## Set some global constants\n",
    "These will be used throughout the demo."
   ]
  },
  {
   "cell_type": "markdown",
   "metadata": {},
   "source": [
    "First generate a unique id to avoid conflicts when creating resources:"
   ]
  },
  {
   "cell_type": "code",
   "execution_count": null,
   "metadata": {
    "tags": []
   },
   "outputs": [],
   "source": [
    "UUID=\"$(cat /proc/sys/kernel/random/uuid)\"\n",
    "DISAMBIGUATOR=\"${UUID:0:8}\""
   ]
  },
  {
   "cell_type": "markdown",
   "metadata": {},
   "source": [
    "Then set variables with names that we are going to use throughout the demo:"
   ]
  },
  {
   "cell_type": "code",
   "execution_count": null,
   "metadata": {},
   "outputs": [],
   "source": [
    "PREFIX=\"FW-VSD-ROS2-$DISAMBIGUATOR\"\n",
    "echo \"Prefix: $PREFIX\"\n",
    "\n",
    "CRED_STACK_NAME=\"${PREFIX}-FwCredentialProviderStack\"\n",
    "CRED_ROLE_NAME=\"${PREFIX}-provider-role\"\n",
    "S3_BUCKET_NAME=`echo \"${PREFIX}-bucket\" | tr '[:upper:]' '[:lower:]'`\n",
    "\n",
    "REGION='us-east-1'\n",
    "SERVICE_PRINCIPAL=\"iotfleetwise.amazonaws.com\"\n",
    "\n",
    "SIGNAL_CATALOG_NAME=\"FW-VSD-ROS2-signal-catalog\"\n",
    "MODEL_MANIFEST_NAME=\"${PREFIX}-model\"\n",
    "DECODER_MANIFEST_NAME=\"${PREFIX}-decoder\"\n",
    "VEHICLE_NAME=\"${PREFIX}-vehicle\"\n",
    "FLEET_NAME=\"${PREFIX}-fleet\"\n",
    "CAMPAIGN_NAME=\"${PREFIX}-campaign\"\n",
    "\n",
    "\n",
    "ENDPOINT_URL_OPTION=\"\"\n",
    "\n",
    "LOG_DIR=~/aws-iot-fleetwise-edge/docs/dev-guide/vision-system-data/logs\n",
    "mkdir -p $LOG_DIR"
   ]
  },
  {
   "cell_type": "markdown",
   "metadata": {
    "tags": []
   },
   "source": [
    "## Getting the FWE binary\n",
    "\n",
    "You can either download a pre-built binary, or build it from source.\n",
    "\n",
    "<div class=\"alert alert-block alert-info\">\n",
    "Note: If you want to use your own custom ROS2 messages, you will need to <a href=\"#optional-building-from-source\">build it from source</a>.\n",
    "</div>\n",
    "\n",
    "### Downloading the pre-built binary\n",
    "\n",
    "**To quickly run the demo,** download the pre-built FWE binary from GitHub and install the required\n",
    "runtime dependencies for the demo:"
   ]
  },
  {
   "cell_type": "code",
   "execution_count": null,
   "metadata": {
    "scrolled": true,
    "tags": []
   },
   "outputs": [],
   "source": [
    "cd ~/aws-iot-fleetwise-edge\n",
    "mkdir -p build/iotfleetwise\n",
    "curl -L https://github.com/aws/aws-iot-fleetwise-edge/releases/latest/download/aws-iot-fleetwise-edge-ros2-arm64.tar.gz -o aws-iot-fleetwise-edge-ros2-arm64.tar.gz\n",
    "tar -zxf aws-iot-fleetwise-edge-ros2-arm64.tar.gz -C build/iotfleetwise/\n",
    "sudo -H ./tools/install-deps-native.sh --with-ros2-support --runtime-only >  $LOG_DIR/deps.log 2>&1\n",
    "source /opt/ros/galactic/setup.bash"
   ]
  },
  {
   "cell_type": "markdown",
   "metadata": {
    "tags": []
   },
   "source": [
    "### (Optional) Building from source\n",
    "If you already downloaded the binary above, skip to the next section.\n",
    "**Alternatively if you would like to build the FWE binary from source,** Uncomment the next two cells and execute them.\n",
    "\n",
    "1. Install the dependencies for FWE with ROS2 support:"
   ]
  },
  {
   "cell_type": "code",
   "execution_count": null,
   "metadata": {
    "scrolled": true,
    "tags": []
   },
   "outputs": [],
   "source": [
    "# cd ~/aws-iot-fleetwise-edge\n",
    "# sudo -H ./tools/install-deps-native.sh --with-ros2-support --prefix /usr/local\n",
    "# sudo ldconfig"
   ]
  },
  {
   "cell_type": "markdown",
   "metadata": {
    "tags": []
   },
   "source": [
    "2. Compile FWE with ROS2 support:\n",
    "<div class=\"alert alert-block alert-info\">\n",
    "   Note: If you want to use custom ROS2 messages, you need to add them in this step to the `colcon` build paths. For more info, refer to <a href=\"https://docs.ros.org/en/galactic/Tutorials/Beginner-Client-Libraries/Custom-ROS2-Interfaces.html\">ROS2 documentation</a>.\n",
    "</div>"
   ]
  },
  {
   "cell_type": "code",
   "execution_count": null,
   "metadata": {
    "tags": []
   },
   "outputs": [],
   "source": [
    "# # To build ROS2 with custom msgs, uncomment the next lines and point the path towards the package directory containing those msg definition.\n",
    "# # For example, here we clone the CARLA message definitions and install the dependencies for them.\n",
    "# # ROS2_CUSTOM_PKGS=~/ros-carla-msgs\n",
    "# # if ! [ -d $ROS2_CUSTOM_PKGS ]; then git clone -b 1.3.0 https://github.com/carla-simulator/ros-carla-msgs.git $ROS2_CUSTOM_PKGS; fi\n",
    "# # sudo apt install -y ros-galactic-ros-environment ros-galactic-diagnostic-msgs ros-galactic-ament-cmake-cppcheck ros-galactic-ament-cmake-cpplint ros-galactic-ament-cmake-uncrustify ros-galactic-ament-cmake-flake8 ros-galactic-ament-cmake-pep257 ros-galactic-ament-lint-auto\n",
    "# source /opt/ros/galactic/setup.bash\n",
    "# rm -rf build install log\n",
    "# colcon build \\\n",
    "#   --paths ./ $ROS2_CUSTOM_PKGS \\\n",
    "#   --cmake-args --no-warn-unused-cli -DCMAKE_BUILD_TYPE=Release -DFWE_STATIC_LINK=On -DFWE_FEATURE_ROS2=On\n",
    "# source install/setup.bash"
   ]
  },
  {
   "cell_type": "markdown",
   "metadata": {
    "tags": []
   },
   "source": [
    "## Set up the S3 bucket policy\n",
    "\n",
    "If you haven't yet created a bucket for this demo, you can run the following cell to create it:"
   ]
  },
  {
   "cell_type": "code",
   "execution_count": null,
   "metadata": {
    "tags": []
   },
   "outputs": [],
   "source": [
    "aws s3 mb s3://$S3_BUCKET_NAME --region $REGION"
   ]
  },
  {
   "cell_type": "markdown",
   "metadata": {},
   "source": [
    "Let's make sure the bucket has the necessary policy to allow FleetWise to write to it. First, we create the policy statement and save it to a file:"
   ]
  },
  {
   "cell_type": "code",
   "execution_count": null,
   "metadata": {
    "tags": []
   },
   "outputs": [],
   "source": [
    "if ! OWNERSHIP_CONTROLS=`aws s3api get-bucket-ownership-controls --bucket ${S3_BUCKET_NAME} 2> /dev/null` \\\n",
    "        || [ \"`echo ${OWNERSHIP_CONTROLS} | jq -r '.OwnershipControls.Rules[0].ObjectOwnership'`\" != \"BucketOwnerEnforced\" ]; then\n",
    "        echo \"Error: ACLs are enabled for bucket ${S3_BUCKET_NAME}. Disable them at https://s3.console.aws.amazon.com/s3/bucket/${S3_BUCKET_NAME}/property/oo/edit\"\n",
    "fi"
   ]
  },
  {
   "cell_type": "code",
   "execution_count": null,
   "metadata": {
    "tags": []
   },
   "outputs": [
    {
     "name": "stdout",
     "output_type": "stream",
     "text": [
      "\u001b[1;39m{\n",
      "  \u001b[0m\u001b[34;1m\"Statement\"\u001b[0m\u001b[1;39m: \u001b[0m\u001b[1;39m[\n",
      "    \u001b[1;39m{\n",
      "      \u001b[0m\u001b[34;1m\"Effect\"\u001b[0m\u001b[1;39m: \u001b[0m\u001b[0;32m\"Allow\"\u001b[0m\u001b[1;39m,\n",
      "      \u001b[0m\u001b[34;1m\"Principal\"\u001b[0m\u001b[1;39m: \u001b[0m\u001b[1;39m{\n",
      "        \u001b[0m\u001b[34;1m\"Service\"\u001b[0m\u001b[1;39m: \u001b[0m\u001b[0;32m\"gamma.iotfleetwise.aws.internal\"\u001b[0m\u001b[1;39m\n",
      "      \u001b[1;39m}\u001b[0m\u001b[1;39m,\n",
      "      \u001b[0m\u001b[34;1m\"Action\"\u001b[0m\u001b[1;39m: \u001b[0m\u001b[0;32m\"s3:ListBucket\"\u001b[0m\u001b[1;39m,\n",
      "      \u001b[0m\u001b[34;1m\"Resource\"\u001b[0m\u001b[1;39m: \u001b[0m\u001b[0;32m\"arn:aws:s3:::fw-vsd-ros2-db819165-bucket\"\u001b[0m\u001b[1;39m\n",
      "    \u001b[1;39m}\u001b[0m\u001b[1;39m,\n",
      "    \u001b[1;39m{\n",
      "      \u001b[0m\u001b[34;1m\"Effect\"\u001b[0m\u001b[1;39m: \u001b[0m\u001b[0;32m\"Allow\"\u001b[0m\u001b[1;39m,\n",
      "      \u001b[0m\u001b[34;1m\"Principal\"\u001b[0m\u001b[1;39m: \u001b[0m\u001b[1;39m{\n",
      "        \u001b[0m\u001b[34;1m\"Service\"\u001b[0m\u001b[1;39m: \u001b[0m\u001b[0;32m\"gamma.iotfleetwise.aws.internal\"\u001b[0m\u001b[1;39m\n",
      "      \u001b[1;39m}\u001b[0m\u001b[1;39m,\n",
      "      \u001b[0m\u001b[34;1m\"Action\"\u001b[0m\u001b[1;39m: \u001b[0m\u001b[1;39m[\n",
      "        \u001b[0;32m\"s3:GetObject\"\u001b[0m\u001b[1;39m,\n",
      "        \u001b[0;32m\"s3:PutObject\"\u001b[0m\u001b[1;39m\n",
      "      \u001b[1;39m]\u001b[0m\u001b[1;39m,\n",
      "      \u001b[0m\u001b[34;1m\"Resource\"\u001b[0m\u001b[1;39m: \u001b[0m\u001b[0;32m\"arn:aws:s3:::fw-vsd-ros2-db819165-bucket/*\"\u001b[0m\u001b[1;39m\n",
      "    \u001b[1;39m}\u001b[0m\u001b[1;39m\n",
      "  \u001b[1;39m]\u001b[0m\u001b[1;39m\n",
      "\u001b[1;39m}\u001b[0m\n"
     ]
    }
   ],
   "source": [
    "cd ~/aws-iot-fleetwise-edge/docs/dev-guide/vision-system-data\n",
    "cat << EOF > data/s3-bucket-policy.json\n",
    "{\n",
    "    \"Statement\": [\n",
    "        {\n",
    "            \"Effect\": \"Allow\",\n",
    "            \"Principal\": {\n",
    "                \"Service\": \"${SERVICE_PRINCIPAL}\"\n",
    "            },\n",
    "            \"Action\": \"s3:ListBucket\",\n",
    "            \"Resource\": \"arn:aws:s3:::${S3_BUCKET_NAME}\"\n",
    "        },\n",
    "        {\n",
    "            \"Effect\": \"Allow\",\n",
    "            \"Principal\": {\n",
    "                \"Service\": \"${SERVICE_PRINCIPAL}\"\n",
    "            },\n",
    "            \"Action\": [\"s3:GetObject\", \"s3:PutObject\"],\n",
    "            \"Resource\": \"arn:aws:s3:::${S3_BUCKET_NAME}/*\"\n",
    "        }\n",
    "    ]\n",
    "}\n",
    "EOF\n",
    "cat data/s3-bucket-policy.json | jq -C"
   ]
  },
  {
   "cell_type": "markdown",
   "metadata": {},
   "source": [
    "Then we use this file to set the bucket policy "
   ]
  },
  {
   "cell_type": "code",
   "execution_count": null,
   "metadata": {
    "tags": []
   },
   "outputs": [],
   "source": [
    "aws s3api put-bucket-policy --bucket $S3_BUCKET_NAME --policy file://data/s3-bucket-policy.json"
   ]
  },
  {
   "cell_type": "markdown",
   "metadata": {},
   "source": [
    "## Set up the AWS IoT Role Alias\n",
    "\n",
    "Run the following cell to launch a CloudFormation stack with the required IAM role and role alias for AWS IoT Credentials Provider in your AWS account.\n",
    "\n",
    "<div class=\"alert alert-block alert-info\">\n",
    "Note: the S3 bucket must have been created in `us-east-1`, and the resources are created in AWS region `us-east-1`.\n",
    "</div>\n"
   ]
  },
  {
   "cell_type": "code",
   "execution_count": null,
   "metadata": {
    "tags": []
   },
   "outputs": [],
   "source": [
    "cd ~/aws-iot-fleetwise-edge\n",
    "aws cloudformation create-stack \\\n",
    "    --region $REGION \\\n",
    "    --stack-name \"${CRED_STACK_NAME}\" \\\n",
    "    --template-body file://tools/cfn-templates/iot-credentials-provider.yml \\\n",
    "    --parameters ParameterKey=RoleAlias,ParameterValue=${CRED_ROLE_NAME} \\\n",
    "        ParameterKey=S3BucketName,ParameterValue=\"${S3_BUCKET_NAME}\" \\\n",
    "        ParameterKey=IoTCoreRegion,ParameterValue=${REGION} \\\n",
    "        ParameterKey=S3BucketPrefixPattern,ParameterValue='\"*raw-data/${credentials-iot:ThingName}/*\"' \\\n",
    "    --capabilities CAPABILITY_AUTO_EXPAND CAPABILITY_NAMED_IAM"
   ]
  },
  {
   "cell_type": "code",
   "execution_count": null,
   "metadata": {
    "vscode": {
     "languageId": "shellscript"
    }
   },
   "outputs": [],
   "source": [
    "aws cloudformation --region $REGION wait stack-create-complete --stack-name \"${CRED_STACK_NAME}\""
   ]
  },
  {
   "cell_type": "markdown",
   "metadata": {},
   "source": [
    "## Provision and run FWE\n",
    "\n",
    "1. Run the following to provision credentials for the vehicle.\n",
    "\n",
    "<div class=\"alert alert-block alert-info\">\n",
    "   Note: The resources are created in AWS region `us-east-1`.\n",
    "</div>"
   ]
  },
  {
   "cell_type": "code",
   "execution_count": null,
   "metadata": {
    "tags": []
   },
   "outputs": [],
   "source": [
    "BUILD_CONFIG_DIR=~/aws-iot-fleetwise-edge/docs/dev-guide/vision-system-data/build_config\n",
    "mkdir -p $BUILD_CONFIG_DIR\n",
    "cd ~/aws-iot-fleetwise-edge\n",
    "\n",
    "./tools/provision.sh \\\n",
    "    --vehicle-name $VEHICLE_NAME \\\n",
    "    --creds-role-alias ${CRED_ROLE_NAME} \\\n",
    "    --certificate-pem-outfile $BUILD_CONFIG_DIR/certificate.pem \\\n",
    "    --private-key-outfile $BUILD_CONFIG_DIR/private-key.key \\\n",
    "    --endpoint-url-outfile $BUILD_CONFIG_DIR/endpoint.txt \\\n",
    "    --vehicle-name-outfile $BUILD_CONFIG_DIR/vehicle-name.txt \\\n",
    "    --creds-role-alias-outfile $BUILD_CONFIG_DIR/creds-role-alias.txt \\\n",
    "    --creds-endpoint-url-outfile $BUILD_CONFIG_DIR/creds-endpoint.txt \\\n",
    "    --region $REGION\n"
   ]
  },
  {
   "cell_type": "code",
   "execution_count": null,
   "metadata": {
    "vscode": {
     "languageId": "shellscript"
    }
   },
   "outputs": [],
   "source": [
    "\n",
    "./tools/configure-fwe.sh \\\n",
    "    --input-config-file configuration/static-config.json \\\n",
    "    --output-config-file $BUILD_CONFIG_DIR/config-0.json \\\n",
    "    --log-level Trace \\\n",
    "    --vehicle-name $VEHICLE_NAME \\\n",
    "    --endpoint-url `cat $BUILD_CONFIG_DIR/endpoint.txt` \\\n",
    "    --certificate-file `realpath $BUILD_CONFIG_DIR/certificate.pem` \\\n",
    "    --private-key-file `realpath $BUILD_CONFIG_DIR/private-key.key` \\\n",
    "    --creds-role-alias `cat $BUILD_CONFIG_DIR/creds-role-alias.txt` \\\n",
    "    --creds-endpoint-url `cat $BUILD_CONFIG_DIR/creds-endpoint.txt` \\\n",
    "    --persistency-path `realpath $BUILD_CONFIG_DIR` \\\n",
    "    --raw-data-buffer-size 2147483648"
   ]
  },
  {
   "cell_type": "markdown",
   "metadata": {},
   "source": [
    "2. Run the following to start FWE. At this stage FWE will be waiting to receive a campaign from the\n",
    "   cloud."
   ]
  },
  {
   "cell_type": "code",
   "execution_count": null,
   "metadata": {
    "tags": []
   },
   "outputs": [],
   "source": [
    "# make sure to kill FWE if we already started it previously\n",
    "if [ ! -z ${FWE_PID} ]; then kill ${FWE_PID}; wait ${FWE_PID}; fi\n",
    "\n",
    "cd ~/aws-iot-fleetwise-edge\n",
    "source /opt/ros/galactic/setup.bash\n",
    "./build/iotfleetwise/aws-iot-fleetwise-edge $BUILD_CONFIG_DIR/config-0.json > $LOG_DIR/FWE.log 2>&1 &\n",
    "FWE_PID=$!"
   ]
  },
  {
   "cell_type": "markdown",
   "metadata": {},
   "source": [
    "## Playback ROS2 data\n",
    "\n",
    "<div class=\"alert alert-block alert-info\">\n",
    "   Note:\n",
    "\n",
    "   - For the next part, if you want to use your own ROS2 rosbag file, upload this to the EC2 instance and adjust the command below to play it back.\n",
    "   - If you want to run the demo with the provided rosbag file, then simply execute the cell below as-is.\n",
    "\n",
    "</div>\n",
    "\n",
    "Data used in this demonstration was generated using the [CARLA](https://carla.org) simulator and recorded in ROS2 rosbag format.\n",
    "\n",
    "Download and playback the ROS2 rosbag file containing example source data that includes video frame images, vehicle dynamics and perception data. Playback of the ~2 minute file is looped."
   ]
  },
  {
   "cell_type": "code",
   "execution_count": null,
   "metadata": {
    "scrolled": true,
    "tags": []
   },
   "outputs": [],
   "source": [
    "cd ~/aws-iot-fleetwise-edge\n",
    "aws s3 cp s3://aws-iot-fleetwise/rosbag2_vision_system_data_demo.db3 ."
   ]
  },
  {
   "cell_type": "code",
   "execution_count": null,
   "metadata": {
    "vscode": {
     "languageId": "shellscript"
    }
   },
   "outputs": [],
   "source": [
    "# make sure to kill the playback if we already started it previously\n",
    "if [ ! -z ${ROSBAG_PID} ]; then kill ${ROSBAG_PID}; wait ${ROSBAG_PID}; fi\n",
    "\n",
    "source /opt/ros/galactic/setup.bash\n",
    "ros2 bag play --loop rosbag2_vision_system_data_demo.db3 > $LOG_DIR/rosbag.log 2>&1 &\n",
    "ROSBAG_PID=$!"
   ]
  },
  {
   "cell_type": "markdown",
   "metadata": {
    "vscode": {
     "languageId": "shellscript"
    }
   },
   "source": [
    "2. **Optional:** If you are interested in viewing the example source data you can also download the file to your local machine and open it in [Foxglove Studio](https://foxglove.dev/).\n",
    "![Foxglove studio screenshot](foxglove-studio-screenshot.jpg)\n",
    "\n",
    "    * Download the ROS2 rosbag file: https://s3.console.aws.amazon.com/s3/object/aws-iot-fleetwise?region=us-east-1&prefix=rosbag2_vision_system_data_demo.db3\n",
    "    * Download and install Foxglove Studio: https://foxglove.dev/download\n",
    "    * In Foxglove Studio, open the ROS2 rosbag file:\n",
    "        * Click 'Open local file'.\n",
    "        * Select the `rosbag2_vision_system_data_demo.db3` file.\n",
    "        * Click on the 'Layouts' tab on the left.\n",
    "        * Click on the 'Import layout' button.\n",
    "        * Select the file in this folder `vision-system-data-foxglove-layout.json`.\n",
    "        * Click the 'Play' button to playback the recording.\n",
    "\n",
    "\n",
    "## Creating the necessary files"
   ]
  },
  {
   "cell_type": "code",
   "execution_count": null,
   "metadata": {
    "tags": []
   },
   "outputs": [],
   "source": [
    "cd ~/aws-iot-fleetwise-edge/docs/dev-guide/vision-system-data\n",
    "script_dir=../../../tools/cloud"
   ]
  },
  {
   "cell_type": "markdown",
   "metadata": {},
   "source": [
    "As we previously mentioned, to start collecting data, we need a few files:\n",
    "  1. **ros2-config.json**: This file will be used to generate other files needed later for Signal Catalog and Decoder Manifest creation.\n",
    "  1. **network-interfaces.json**: This file will be used to define the interface IDs and types of network interfaces for the decoder manifest\n",
    "  \n",
    "<div class=\"alert alert-block alert-info\">\n",
    "   Note:\n",
    "\n",
    "   - For the next part, if you want to use your own ROS2 messages and you already built them above, you can edit the `ros2-config.json` file to add your topics, types and fully-qualified-names.\n",
    "   - If you want to run the demo with the provided files, then simply execute the cells below with the paths provided.\n",
    "\n",
    "</div>\n",
    "\n",
    "\n",
    "### Create ros2-config.json\n",
    "\n",
    "First, we need to create a JSON configuration file (`ros2-config.json`). \n",
    "\n",
    "* **fullyQualifiedName -** this name will be the name of the Sensor in the signal catalog (can be anything). In this config, we used example ROS2 topic name as a fullyQualifiedName with the Vehicle prefix.\n",
    "* **interfaceId** - must match the interface ID used in the `static-config.json` file (on the Edge). In this example it's `\"10\"`.\n",
    "* **topic** - topic name where message is published on\n",
    "* **type** - the path to the message that is published"
   ]
  },
  {
   "cell_type": "code",
   "execution_count": null,
   "metadata": {
    "tags": []
   },
   "outputs": [
    {
     "name": "stdout",
     "output_type": "stream",
     "text": [
      "\u001b[1;39m{\n",
      "  \u001b[0m\u001b[34;1m\"messages\"\u001b[0m\u001b[1;39m: \u001b[0m\u001b[1;39m[\n",
      "    \u001b[1;39m{\n",
      "      \u001b[0m\u001b[34;1m\"fullyQualifiedName\"\u001b[0m\u001b[1;39m: \u001b[0m\u001b[0;32m\"Vehicle.Cameras.Front.Image\"\u001b[0m\u001b[1;39m,\n",
      "      \u001b[0m\u001b[34;1m\"interfaceId\"\u001b[0m\u001b[1;39m: \u001b[0m\u001b[0;32m\"10\"\u001b[0m\u001b[1;39m,\n",
      "      \u001b[0m\u001b[34;1m\"topic\"\u001b[0m\u001b[1;39m: \u001b[0m\u001b[0;32m\"/carla/ego_vehicle/rgb_front/image_compressed\"\u001b[0m\u001b[1;39m,\n",
      "      \u001b[0m\u001b[34;1m\"type\"\u001b[0m\u001b[1;39m: \u001b[0m\u001b[0;32m\"sensor_msgs/msg/CompressedImage\"\u001b[0m\u001b[1;39m\n",
      "    \u001b[1;39m}\u001b[0m\u001b[1;39m,\n",
      "    \u001b[1;39m{\n",
      "      \u001b[0m\u001b[34;1m\"fullyQualifiedName\"\u001b[0m\u001b[1;39m: \u001b[0m\u001b[0;32m\"Vehicle.Speed\"\u001b[0m\u001b[1;39m,\n",
      "      \u001b[0m\u001b[34;1m\"interfaceId\"\u001b[0m\u001b[1;39m: \u001b[0m\u001b[0;32m\"10\"\u001b[0m\u001b[1;39m,\n",
      "      \u001b[0m\u001b[34;1m\"topic\"\u001b[0m\u001b[1;39m: \u001b[0m\u001b[0;32m\"/carla/ego_vehicle/speedometer\"\u001b[0m\u001b[1;39m,\n",
      "      \u001b[0m\u001b[34;1m\"type\"\u001b[0m\u001b[1;39m: \u001b[0m\u001b[0;32m\"std_msgs/msg/Float32\"\u001b[0m\u001b[1;39m\n",
      "    \u001b[1;39m}\u001b[0m\u001b[1;39m,\n",
      "    \u001b[1;39m{\n",
      "      \u001b[0m\u001b[34;1m\"fullyQualifiedName\"\u001b[0m\u001b[1;39m: \u001b[0m\u001b[0;32m\"Vehicle.Airbag.CollisionIntensity\"\u001b[0m\u001b[1;39m,\n",
      "      \u001b[0m\u001b[34;1m\"interfaceId\"\u001b[0m\u001b[1;39m: \u001b[0m\u001b[0;32m\"10\"\u001b[0m\u001b[1;39m,\n",
      "      \u001b[0m\u001b[34;1m\"topic\"\u001b[0m\u001b[1;39m: \u001b[0m\u001b[0;32m\"/carla/ego_vehicle/collision_intensity\"\u001b[0m\u001b[1;39m,\n",
      "      \u001b[0m\u001b[34;1m\"type\"\u001b[0m\u001b[1;39m: \u001b[0m\u001b[0;32m\"std_msgs/msg/Float32\"\u001b[0m\u001b[1;39m\n",
      "    \u001b[1;39m}\u001b[0m\u001b[1;39m,\n",
      "    \u001b[1;39m{\n",
      "      \u001b[0m\u001b[34;1m\"fullyQualifiedName\"\u001b[0m\u001b[1;39m: \u001b[0m\u001b[0;32m\"Vehicle.Acceleration\"\u001b[0m\u001b[1;39m,\n",
      "      \u001b[0m\u001b[34;1m\"interfaceId\"\u001b[0m\u001b[1;39m: \u001b[0m\u001b[0;32m\"10\"\u001b[0m\u001b[1;39m,\n",
      "      \u001b[0m\u001b[34;1m\"topic\"\u001b[0m\u001b[1;39m: \u001b[0m\u001b[0;32m\"/carla/ego_vehicle/imu\"\u001b[0m\u001b[1;39m,\n",
      "      \u001b[0m\u001b[34;1m\"type\"\u001b[0m\u001b[1;39m: \u001b[0m\u001b[0;32m\"sensor_msgs/msg/Imu\"\u001b[0m\u001b[1;39m\n",
      "    \u001b[1;39m}\u001b[0m\u001b[1;39m\n",
      "  \u001b[1;39m]\u001b[0m\u001b[1;39m\n",
      "\u001b[1;39m}\u001b[0m\n"
     ]
    }
   ],
   "source": [
    "ROS2_CONFIG_FILE=\"data/ros2-config.json\"\n",
    "cat $ROS2_CONFIG_FILE | jq -C"
   ]
  },
  {
   "cell_type": "markdown",
   "metadata": {},
   "source": [
    "### Create network-interfaces.json\n",
    "\n",
    "This file will be needed to generate input for **CreateDecoderManifest** API\n",
    "<div class=\"alert alert-block alert-info\">\n",
    "   Note: It has to have the same **interfaceId** as provided before in the ros2-config.json. Other fields should remain the same for ros2-signals.\n",
    "\n",
    "</div>"
   ]
  },
  {
   "cell_type": "code",
   "execution_count": null,
   "metadata": {
    "tags": []
   },
   "outputs": [
    {
     "name": "stdout",
     "output_type": "stream",
     "text": [
      "\u001b[1;39m[\n",
      "  \u001b[1;39m{\n",
      "    \u001b[0m\u001b[34;1m\"interfaceId\"\u001b[0m\u001b[1;39m: \u001b[0m\u001b[0;32m\"10\"\u001b[0m\u001b[1;39m,\n",
      "    \u001b[0m\u001b[34;1m\"type\"\u001b[0m\u001b[1;39m: \u001b[0m\u001b[0;32m\"VEHICLE_MIDDLEWARE\"\u001b[0m\u001b[1;39m,\n",
      "    \u001b[0m\u001b[34;1m\"vehicleMiddleware\"\u001b[0m\u001b[1;39m: \u001b[0m\u001b[1;39m{\n",
      "      \u001b[0m\u001b[34;1m\"name\"\u001b[0m\u001b[1;39m: \u001b[0m\u001b[0;32m\"ros2\"\u001b[0m\u001b[1;39m,\n",
      "      \u001b[0m\u001b[34;1m\"protocolName\"\u001b[0m\u001b[1;39m: \u001b[0m\u001b[0;32m\"ROS_2\"\u001b[0m\u001b[1;39m\n",
      "    \u001b[1;39m}\u001b[0m\u001b[1;39m\n",
      "  \u001b[1;39m}\u001b[0m\u001b[1;39m\n",
      "\u001b[1;39m]\u001b[0m\n"
     ]
    }
   ],
   "source": [
    "NETWORK_INTERFACES_FILE=\"data/network-interfaces.json\"\n",
    "NETWORK_INTERFACES=`cat $NETWORK_INTERFACES_FILE`\n",
    "echo $NETWORK_INTERFACES | jq -C"
   ]
  },
  {
   "cell_type": "markdown",
   "metadata": {},
   "source": [
    "### Generating CreateSignalCatalog input\n",
    "\n",
    "The data collection starts in the modeling stage. FW signal catalog models signals in the VSS format. Therefore, the ROS2 message format requires some transformation before it can be imported into the service. \n",
    "\n",
    "We will use the previously created `ROS2_CONFIG_FILE` to generate this file."
   ]
  },
  {
   "cell_type": "code",
   "execution_count": null,
   "metadata": {
    "tags": []
   },
   "outputs": [
    {
     "name": "stdout",
     "output_type": "stream",
     "text": [
      "\u001b[1;39m[\n",
      "  \u001b[1;39m{\n",
      "    \u001b[0m\u001b[34;1m\"branch\"\u001b[0m\u001b[1;39m: \u001b[0m\u001b[1;39m{\n",
      "      \u001b[0m\u001b[34;1m\"fullyQualifiedName\"\u001b[0m\u001b[1;39m: \u001b[0m\u001b[0;32m\"Types\"\u001b[0m\u001b[1;39m\n",
      "    \u001b[1;39m}\u001b[0m\u001b[1;39m\n",
      "  \u001b[1;39m}\u001b[0m\u001b[1;39m,\n",
      "  \u001b[1;39m{\n",
      "    \u001b[0m\u001b[34;1m\"struct\"\u001b[0m\u001b[1;39m: \u001b[0m\u001b[1;39m{\n",
      "      \u001b[0m\u001b[34;1m\"fullyQualifiedName\"\u001b[0m\u001b[1;39m: \u001b[0m\u001b[0;32m\"Types.sensor_msgs_msg_CompressedImage\"\u001b[0m\u001b[1;39m\n",
      "    \u001b[1;39m}\u001b[0m\u001b[1;39m\n",
      "  \u001b[1;39m}\u001b[0m\u001b[1;39m,\n",
      "  \u001b[1;39m{\n",
      "    \u001b[0m\u001b[34;1m\"struct\"\u001b[0m\u001b[1;39m: \u001b[0m\u001b[1;39m{\n",
      "      \u001b[0m\u001b[34;1m\"fullyQualifiedName\"\u001b[0m\u001b[1;39m: \u001b[0m\u001b[0;32m\"Types.std_msgs_Header\"\u001b[0m\u001b[1;39m\n",
      "    \u001b[1;39m}\u001b[0m\u001b[1;39m\n",
      "  \u001b[1;39m}\u001b[0m\u001b[1;39m,\n",
      "  \u001b[1;39m{\n",
      "    \u001b[0m\u001b[34;1m\"struct\"\u001b[0m\u001b[1;39m: \u001b[0m\u001b[1;39m{\n",
      "      \u001b[0m\u001b[34;1m\"fullyQualifiedName\"\u001b[0m\u001b[1;39m: \u001b[0m\u001b[0;32m\"Types.builtin_interfaces_Time\"\u001b[0m\u001b[1;39m\n",
      "    \u001b[1;39m}\u001b[0m\u001b[1;39m\n",
      "  \u001b[1;39m}\u001b[0m\u001b[1;39m,\n",
      "  \u001b[1;39m{\n",
      "    \u001b[0m\u001b[34;1m\"property\"\u001b[0m\u001b[1;39m: \u001b[0m\u001b[1;39m{\n",
      "      \u001b[0m\u001b[34;1m\"fullyQualifiedName\"\u001b[0m\u001b[1;39m: \u001b[0m\u001b[0;32m\"Types.builtin_interfaces_Time.sec\"\u001b[0m\u001b[1;39m,\n",
      "      \u001b[0m\u001b[34;1m\"dataType\"\u001b[0m\u001b[1;39m: \u001b[0m\u001b[0;32m\"INT32\"\u001b[0m\u001b[1;39m,\n",
      "      \u001b[0m\u001b[34;1m\"dataEncoding\"\u001b[0m\u001b[1;39m: \u001b[0m\u001b[0;32m\"TYPED\"\u001b[0m\u001b[1;39m\n",
      "    \u001b[1;39m}\u001b[0m\u001b[1;39m\n",
      "  \u001b[1;39m}\u001b[0m\u001b[1;39m,\n",
      "  \u001b[1;39m{\n",
      "    \u001b[0m\u001b[34;1m\"property\"\u001b[0m\u001b[1;39m: \u001b[0m\u001b[1;39m{\n",
      "      \u001b[0m\u001b[34;1m\"fullyQualifiedName\"\u001b[0m\u001b[1;39m: \u001b[0m\u001b[0;32m\"Types.builtin_interfaces_Time.nanosec\"\u001b[0m\u001b[1;39m,\n",
      "      \u001b[0m\u001b[34;1m\"dataType\"\u001b[0m\u001b[1;39m: \u001b[0m\u001b[0;32m\"UINT32\"\u001b[0m\u001b[1;39m,\n",
      "      \u001b[0m\u001b[34;1m\"dataEncoding\"\u001b[0m\u001b[1;39m: \u001b[0m\u001b[0;32m\"TYPED\"\u001b[0m\u001b[1;39m\n",
      "    \u001b[1;39m}\u001b[0m\u001b[1;39m\n",
      "  \u001b[1;39m}\u001b[0m\u001b[1;39m,\n",
      "  \u001b[1;39m{\n",
      "    \u001b[0m\u001b[34;1m\"property\"\u001b[0m\u001b[1;39m: \u001b[0m\u001b[1;39m{\n",
      "      \u001b[0m\u001b[34;1m\"fullyQualifiedName\"\u001b[0m\u001b[1;39m: \u001b[0m\u001b[0;32m\"Types.std_msgs_Header.stamp\"\u001b[0m\u001b[1;39m,\n",
      "      \u001b[0m\u001b[34;1m\"dataType\"\u001b[0m\u001b[1;39m: \u001b[0m\u001b[0;32m\"STRUCT\"\u001b[0m\u001b[1;39m,\n",
      "      \u001b[0m\u001b[34;1m\"structFullyQualifiedName\"\u001b[0m\u001b[1;39m: \u001b[0m\u001b[0;32m\"Types.builtin_interfaces_Time\"\u001b[0m\u001b[1;39m\n",
      "    \u001b[1;39m}\u001b[0m\u001b[1;39m\n",
      "  \u001b[1;39m}\u001b[0m\u001b[1;39m,\n",
      "  \u001b[1;39m{\n",
      "    \u001b[0m\u001b[34;1m\"property\"\u001b[0m\u001b[1;39m: \u001b[0m\u001b[1;39m{\n",
      "      \u001b[0m\u001b[34;1m\"fullyQualifiedName\"\u001b[0m\u001b[1;39m: \u001b[0m\u001b[0;32m\"Types.std_msgs_Header.frame_id\"\u001b[0m\u001b[1;39m,\n",
      "      \u001b[0m\u001b[34;1m\"dataType\"\u001b[0m\u001b[1;39m: \u001b[0m\u001b[0;32m\"STRING\"\u001b[0m\u001b[1;39m,\n",
      "      \u001b[0m\u001b[34;1m\"dataEncoding\"\u001b[0m\u001b[1;39m: \u001b[0m\u001b[0;32m\"TYPED\"\u001b[0m\u001b[1;39m\n",
      "    \u001b[1;39m}\u001b[0m\u001b[1;39m\n",
      "  \u001b[1;39m}\u001b[0m\u001b[1;39m,\n",
      "  \u001b[1;39m{\n",
      "    \u001b[0m\u001b[34;1m\"property\"\u001b[0m\u001b[1;39m: \u001b[0m\u001b[1;39m{\n",
      "      \u001b[0m\u001b[34;1m\"fullyQualifiedName\"\u001b[0m\u001b[1;39m: \u001b[0m\u001b[0;32m\"Types.sensor_msgs_msg_CompressedImage.header\"\u001b[0m\u001b[1;39m,\n",
      "      \u001b[0m\u001b[34;1m\"dataType\"\u001b[0m\u001b[1;39m: \u001b[0m\u001b[0;32m\"STRUCT\"\u001b[0m\u001b[1;39m,\n",
      "      \u001b[0m\u001b[34;1m\"structFullyQualifiedName\"\u001b[0m\u001b[1;39m: \u001b[0m\u001b[0;32m\"Types.std_msgs_Header\"\u001b[0m\u001b[1;39m\n",
      "    \u001b[1;39m}\u001b[0m\u001b[1;39m\n",
      "  \u001b[1;39m}\u001b[0m\u001b[1;39m,\n",
      "  \u001b[1;39m{\n",
      "    \u001b[0m\u001b[34;1m\"property\"\u001b[0m\u001b[1;39m: \u001b[0m\u001b[1;39m{\n",
      "      \u001b[0m\u001b[34;1m\"fullyQualifiedName\"\u001b[0m\u001b[1;39m: \u001b[0m\u001b[0;32m\"Types.sensor_msgs_msg_CompressedImage.format\"\u001b[0m\u001b[1;39m,\n",
      "      \u001b[0m\u001b[34;1m\"dataType\"\u001b[0m\u001b[1;39m: \u001b[0m\u001b[0;32m\"STRING\"\u001b[0m\u001b[1;39m,\n",
      "      \u001b[0m\u001b[34;1m\"dataEncoding\"\u001b[0m\u001b[1;39m: \u001b[0m\u001b[0;32m\"TYPED\"\u001b[0m\u001b[1;39m\n",
      "    \u001b[1;39m}\u001b[0m\u001b[1;39m\n",
      "  \u001b[1;39m}\u001b[0m\u001b[1;39m,\n",
      "  \u001b[1;39m{\n",
      "    \u001b[0m\u001b[34;1m\"property\"\u001b[0m\u001b[1;39m: \u001b[0m\u001b[1;39m{\n",
      "      \u001b[0m\u001b[34;1m\"fullyQualifiedName\"\u001b[0m\u001b[1;39m: \u001b[0m\u001b[0;32m\"Types.sensor_msgs_msg_CompressedImage.data\"\u001b[0m\u001b[1;39m,\n",
      "      \u001b[0m\u001b[34;1m\"dataType\"\u001b[0m\u001b[1;39m: \u001b[0m\u001b[0;32m\"UINT8_ARRAY\"\u001b[0m\u001b[1;39m,\n",
      "      \u001b[0m\u001b[34;1m\"dataEncoding\"\u001b[0m\u001b[1;39m: \u001b[0m\u001b[0;32m\"BINARY\"\u001b[0m\u001b[1;39m\n",
      "    \u001b[1;39m}\u001b[0m\u001b[1;39m\n",
      "  \u001b[1;39m}\u001b[0m\u001b[1;39m,\n",
      "  \u001b[1;39m{\n",
      "    \u001b[0m\u001b[34;1m\"branch\"\u001b[0m\u001b[1;39m: \u001b[0m\u001b[1;39m{\n",
      "      \u001b[0m\u001b[34;1m\"fullyQualifiedName\"\u001b[0m\u001b[1;39m: \u001b[0m\u001b[0;32m\"Vehicle\"\u001b[0m\u001b[1;39m,\n",
      "      \u001b[0m\u001b[34;1m\"description\"\u001b[0m\u001b[1;39m: \u001b[0m\u001b[0;32m\"Vehicle\"\u001b[0m\u001b[1;39m\n",
      "    \u001b[1;39m}\u001b[0m\u001b[1;39m\n",
      "  \u001b[1;39m}\u001b[0m\u001b[1;39m,\n",
      "  \u001b[1;39m{\n",
      "    \u001b[0m\u001b[34;1m\"branch\"\u001b[0m\u001b[1;39m: \u001b[0m\u001b[1;39m{\n",
      "      \u001b[0m\u001b[34;1m\"fullyQualifiedName\"\u001b[0m\u001b[1;39m: \u001b[0m\u001b[0;32m\"Vehicle.Cameras\"\u001b[0m\u001b[1;39m,\n",
      "      \u001b[0m\u001b[34;1m\"description\"\u001b[0m\u001b[1;39m: \u001b[0m\u001b[0;32m\"Vehicle.Cameras\"\u001b[0m\u001b[1;39m\n",
      "    \u001b[1;39m}\u001b[0m\u001b[1;39m\n",
      "  \u001b[1;39m}\u001b[0m\u001b[1;39m,\n",
      "  \u001b[1;39m{\n",
      "    \u001b[0m\u001b[34;1m\"branch\"\u001b[0m\u001b[1;39m: \u001b[0m\u001b[1;39m{\n",
      "      \u001b[0m\u001b[34;1m\"fullyQualifiedName\"\u001b[0m\u001b[1;39m: \u001b[0m\u001b[0;32m\"Vehicle.Cameras.Front\"\u001b[0m\u001b[1;39m,\n",
      "      \u001b[0m\u001b[34;1m\"description\"\u001b[0m\u001b[1;39m: \u001b[0m\u001b[0;32m\"Vehicle.Cameras.Front\"\u001b[0m\u001b[1;39m\n",
      "    \u001b[1;39m}\u001b[0m\u001b[1;39m\n",
      "  \u001b[1;39m}\u001b[0m\u001b[1;39m,\n",
      "  \u001b[1;39m{\n",
      "    \u001b[0m\u001b[34;1m\"sensor\"\u001b[0m\u001b[1;39m: \u001b[0m\u001b[1;39m{\n",
      "      \u001b[0m\u001b[34;1m\"fullyQualifiedName\"\u001b[0m\u001b[1;39m: \u001b[0m\u001b[0;32m\"Vehicle.Cameras.Front.Image\"\u001b[0m\u001b[1;39m,\n",
      "      \u001b[0m\u001b[34;1m\"dataType\"\u001b[0m\u001b[1;39m: \u001b[0m\u001b[0;32m\"STRUCT\"\u001b[0m\u001b[1;39m,\n",
      "      \u001b[0m\u001b[34;1m\"structFullyQualifiedName\"\u001b[0m\u001b[1;39m: \u001b[0m\u001b[0;32m\"Types.sensor_msgs_msg_CompressedImage\"\u001b[0m\u001b[1;39m\n",
      "    \u001b[1;39m}\u001b[0m\u001b[1;39m\n",
      "  \u001b[1;39m}\u001b[0m\u001b[1;39m,\n",
      "  \u001b[1;39m{\n",
      "    \u001b[0m\u001b[34;1m\"struct\"\u001b[0m\u001b[1;39m: \u001b[0m\u001b[1;39m{\n",
      "      \u001b[0m\u001b[34;1m\"fullyQualifiedName\"\u001b[0m\u001b[1;39m: \u001b[0m\u001b[0;32m\"Types.std_msgs_msg_Float32\"\u001b[0m\u001b[1;39m\n",
      "    \u001b[1;39m}\u001b[0m\u001b[1;39m\n",
      "  \u001b[1;39m}\u001b[0m\u001b[1;39m,\n",
      "  \u001b[1;39m{\n",
      "    \u001b[0m\u001b[34;1m\"property\"\u001b[0m\u001b[1;39m: \u001b[0m\u001b[1;39m{\n",
      "      \u001b[0m\u001b[34;1m\"fullyQualifiedName\"\u001b[0m\u001b[1;39m: \u001b[0m\u001b[0;32m\"Types.std_msgs_msg_Float32.data\"\u001b[0m\u001b[1;39m,\n",
      "      \u001b[0m\u001b[34;1m\"dataType\"\u001b[0m\u001b[1;39m: \u001b[0m\u001b[0;32m\"FLOAT\"\u001b[0m\u001b[1;39m,\n",
      "      \u001b[0m\u001b[34;1m\"dataEncoding\"\u001b[0m\u001b[1;39m: \u001b[0m\u001b[0;32m\"TYPED\"\u001b[0m\u001b[1;39m\n",
      "    \u001b[1;39m}\u001b[0m\u001b[1;39m\n",
      "  \u001b[1;39m}\u001b[0m\u001b[1;39m,\n",
      "  \u001b[1;39m{\n",
      "    \u001b[0m\u001b[34;1m\"sensor\"\u001b[0m\u001b[1;39m: \u001b[0m\u001b[1;39m{\n",
      "      \u001b[0m\u001b[34;1m\"fullyQualifiedName\"\u001b[0m\u001b[1;39m: \u001b[0m\u001b[0;32m\"Vehicle.Speed\"\u001b[0m\u001b[1;39m,\n",
      "      \u001b[0m\u001b[34;1m\"dataType\"\u001b[0m\u001b[1;39m: \u001b[0m\u001b[0;32m\"STRUCT\"\u001b[0m\u001b[1;39m,\n",
      "      \u001b[0m\u001b[34;1m\"structFullyQualifiedName\"\u001b[0m\u001b[1;39m: \u001b[0m\u001b[0;32m\"Types.std_msgs_msg_Float32\"\u001b[0m\u001b[1;39m\n",
      "    \u001b[1;39m}\u001b[0m\u001b[1;39m\n",
      "  \u001b[1;39m}\u001b[0m\u001b[1;39m,\n",
      "  \u001b[1;39m{\n",
      "    \u001b[0m\u001b[34;1m\"branch\"\u001b[0m\u001b[1;39m: \u001b[0m\u001b[1;39m{\n",
      "      \u001b[0m\u001b[34;1m\"fullyQualifiedName\"\u001b[0m\u001b[1;39m: \u001b[0m\u001b[0;32m\"Vehicle.Airbag\"\u001b[0m\u001b[1;39m,\n",
      "      \u001b[0m\u001b[34;1m\"description\"\u001b[0m\u001b[1;39m: \u001b[0m\u001b[0;32m\"Vehicle.Airbag\"\u001b[0m\u001b[1;39m\n",
      "    \u001b[1;39m}\u001b[0m\u001b[1;39m\n",
      "  \u001b[1;39m}\u001b[0m\u001b[1;39m,\n",
      "  \u001b[1;39m{\n",
      "    \u001b[0m\u001b[34;1m\"sensor\"\u001b[0m\u001b[1;39m: \u001b[0m\u001b[1;39m{\n",
      "      \u001b[0m\u001b[34;1m\"fullyQualifiedName\"\u001b[0m\u001b[1;39m: \u001b[0m\u001b[0;32m\"Vehicle.Airbag.CollisionIntensity\"\u001b[0m\u001b[1;39m,\n",
      "      \u001b[0m\u001b[34;1m\"dataType\"\u001b[0m\u001b[1;39m: \u001b[0m\u001b[0;32m\"STRUCT\"\u001b[0m\u001b[1;39m,\n",
      "      \u001b[0m\u001b[34;1m\"structFullyQualifiedName\"\u001b[0m\u001b[1;39m: \u001b[0m\u001b[0;32m\"Types.std_msgs_msg_Float32\"\u001b[0m\u001b[1;39m\n",
      "    \u001b[1;39m}\u001b[0m\u001b[1;39m\n",
      "  \u001b[1;39m}\u001b[0m\u001b[1;39m,\n",
      "  \u001b[1;39m{\n",
      "    \u001b[0m\u001b[34;1m\"struct\"\u001b[0m\u001b[1;39m: \u001b[0m\u001b[1;39m{\n",
      "      \u001b[0m\u001b[34;1m\"fullyQualifiedName\"\u001b[0m\u001b[1;39m: \u001b[0m\u001b[0;32m\"Types.sensor_msgs_msg_Imu\"\u001b[0m\u001b[1;39m\n",
      "    \u001b[1;39m}\u001b[0m\u001b[1;39m\n",
      "  \u001b[1;39m}\u001b[0m\u001b[1;39m,\n",
      "  \u001b[1;39m{\n",
      "    \u001b[0m\u001b[34;1m\"property\"\u001b[0m\u001b[1;39m: \u001b[0m\u001b[1;39m{\n",
      "      \u001b[0m\u001b[34;1m\"fullyQualifiedName\"\u001b[0m\u001b[1;39m: \u001b[0m\u001b[0;32m\"Types.sensor_msgs_msg_Imu.header\"\u001b[0m\u001b[1;39m,\n",
      "      \u001b[0m\u001b[34;1m\"dataType\"\u001b[0m\u001b[1;39m: \u001b[0m\u001b[0;32m\"STRUCT\"\u001b[0m\u001b[1;39m,\n",
      "      \u001b[0m\u001b[34;1m\"structFullyQualifiedName\"\u001b[0m\u001b[1;39m: \u001b[0m\u001b[0;32m\"Types.std_msgs_Header\"\u001b[0m\u001b[1;39m\n",
      "    \u001b[1;39m}\u001b[0m\u001b[1;39m\n",
      "  \u001b[1;39m}\u001b[0m\u001b[1;39m,\n",
      "  \u001b[1;39m{\n",
      "    \u001b[0m\u001b[34;1m\"struct\"\u001b[0m\u001b[1;39m: \u001b[0m\u001b[1;39m{\n",
      "      \u001b[0m\u001b[34;1m\"fullyQualifiedName\"\u001b[0m\u001b[1;39m: \u001b[0m\u001b[0;32m\"Types.geometry_msgs_Quaternion\"\u001b[0m\u001b[1;39m\n",
      "    \u001b[1;39m}\u001b[0m\u001b[1;39m\n",
      "  \u001b[1;39m}\u001b[0m\u001b[1;39m,\n",
      "  \u001b[1;39m{\n",
      "    \u001b[0m\u001b[34;1m\"property\"\u001b[0m\u001b[1;39m: \u001b[0m\u001b[1;39m{\n",
      "      \u001b[0m\u001b[34;1m\"fullyQualifiedName\"\u001b[0m\u001b[1;39m: \u001b[0m\u001b[0;32m\"Types.geometry_msgs_Quaternion.x\"\u001b[0m\u001b[1;39m,\n",
      "      \u001b[0m\u001b[34;1m\"dataType\"\u001b[0m\u001b[1;39m: \u001b[0m\u001b[0;32m\"DOUBLE\"\u001b[0m\u001b[1;39m,\n",
      "      \u001b[0m\u001b[34;1m\"dataEncoding\"\u001b[0m\u001b[1;39m: \u001b[0m\u001b[0;32m\"TYPED\"\u001b[0m\u001b[1;39m\n",
      "    \u001b[1;39m}\u001b[0m\u001b[1;39m\n",
      "  \u001b[1;39m}\u001b[0m\u001b[1;39m,\n",
      "  \u001b[1;39m{\n",
      "    \u001b[0m\u001b[34;1m\"property\"\u001b[0m\u001b[1;39m: \u001b[0m\u001b[1;39m{\n",
      "      \u001b[0m\u001b[34;1m\"fullyQualifiedName\"\u001b[0m\u001b[1;39m: \u001b[0m\u001b[0;32m\"Types.geometry_msgs_Quaternion.y\"\u001b[0m\u001b[1;39m,\n",
      "      \u001b[0m\u001b[34;1m\"dataType\"\u001b[0m\u001b[1;39m: \u001b[0m\u001b[0;32m\"DOUBLE\"\u001b[0m\u001b[1;39m,\n",
      "      \u001b[0m\u001b[34;1m\"dataEncoding\"\u001b[0m\u001b[1;39m: \u001b[0m\u001b[0;32m\"TYPED\"\u001b[0m\u001b[1;39m\n",
      "    \u001b[1;39m}\u001b[0m\u001b[1;39m\n",
      "  \u001b[1;39m}\u001b[0m\u001b[1;39m,\n",
      "  \u001b[1;39m{\n",
      "    \u001b[0m\u001b[34;1m\"property\"\u001b[0m\u001b[1;39m: \u001b[0m\u001b[1;39m{\n",
      "      \u001b[0m\u001b[34;1m\"fullyQualifiedName\"\u001b[0m\u001b[1;39m: \u001b[0m\u001b[0;32m\"Types.geometry_msgs_Quaternion.z\"\u001b[0m\u001b[1;39m,\n",
      "      \u001b[0m\u001b[34;1m\"dataType\"\u001b[0m\u001b[1;39m: \u001b[0m\u001b[0;32m\"DOUBLE\"\u001b[0m\u001b[1;39m,\n",
      "      \u001b[0m\u001b[34;1m\"dataEncoding\"\u001b[0m\u001b[1;39m: \u001b[0m\u001b[0;32m\"TYPED\"\u001b[0m\u001b[1;39m\n",
      "    \u001b[1;39m}\u001b[0m\u001b[1;39m\n",
      "  \u001b[1;39m}\u001b[0m\u001b[1;39m,\n",
      "  \u001b[1;39m{\n",
      "    \u001b[0m\u001b[34;1m\"property\"\u001b[0m\u001b[1;39m: \u001b[0m\u001b[1;39m{\n",
      "      \u001b[0m\u001b[34;1m\"fullyQualifiedName\"\u001b[0m\u001b[1;39m: \u001b[0m\u001b[0;32m\"Types.geometry_msgs_Quaternion.w\"\u001b[0m\u001b[1;39m,\n",
      "      \u001b[0m\u001b[34;1m\"dataType\"\u001b[0m\u001b[1;39m: \u001b[0m\u001b[0;32m\"DOUBLE\"\u001b[0m\u001b[1;39m,\n",
      "      \u001b[0m\u001b[34;1m\"dataEncoding\"\u001b[0m\u001b[1;39m: \u001b[0m\u001b[0;32m\"TYPED\"\u001b[0m\u001b[1;39m\n",
      "    \u001b[1;39m}\u001b[0m\u001b[1;39m\n",
      "  \u001b[1;39m}\u001b[0m\u001b[1;39m,\n",
      "  \u001b[1;39m{\n",
      "    \u001b[0m\u001b[34;1m\"property\"\u001b[0m\u001b[1;39m: \u001b[0m\u001b[1;39m{\n",
      "      \u001b[0m\u001b[34;1m\"fullyQualifiedName\"\u001b[0m\u001b[1;39m: \u001b[0m\u001b[0;32m\"Types.sensor_msgs_msg_Imu.orientation\"\u001b[0m\u001b[1;39m,\n",
      "      \u001b[0m\u001b[34;1m\"dataType\"\u001b[0m\u001b[1;39m: \u001b[0m\u001b[0;32m\"STRUCT\"\u001b[0m\u001b[1;39m,\n",
      "      \u001b[0m\u001b[34;1m\"structFullyQualifiedName\"\u001b[0m\u001b[1;39m: \u001b[0m\u001b[0;32m\"Types.geometry_msgs_Quaternion\"\u001b[0m\u001b[1;39m\n",
      "    \u001b[1;39m}\u001b[0m\u001b[1;39m\n",
      "  \u001b[1;39m}\u001b[0m\u001b[1;39m,\n",
      "  \u001b[1;39m{\n",
      "    \u001b[0m\u001b[34;1m\"property\"\u001b[0m\u001b[1;39m: \u001b[0m\u001b[1;39m{\n",
      "      \u001b[0m\u001b[34;1m\"fullyQualifiedName\"\u001b[0m\u001b[1;39m: \u001b[0m\u001b[0;32m\"Types.sensor_msgs_msg_Imu.orientation_covariance\"\u001b[0m\u001b[1;39m,\n",
      "      \u001b[0m\u001b[34;1m\"dataType\"\u001b[0m\u001b[1;39m: \u001b[0m\u001b[0;32m\"DOUBLE_ARRAY\"\u001b[0m\u001b[1;39m,\n",
      "      \u001b[0m\u001b[34;1m\"dataEncoding\"\u001b[0m\u001b[1;39m: \u001b[0m\u001b[0;32m\"TYPED\"\u001b[0m\u001b[1;39m\n",
      "    \u001b[1;39m}\u001b[0m\u001b[1;39m\n",
      "  \u001b[1;39m}\u001b[0m\u001b[1;39m,\n",
      "  \u001b[1;39m{\n",
      "    \u001b[0m\u001b[34;1m\"struct\"\u001b[0m\u001b[1;39m: \u001b[0m\u001b[1;39m{\n",
      "      \u001b[0m\u001b[34;1m\"fullyQualifiedName\"\u001b[0m\u001b[1;39m: \u001b[0m\u001b[0;32m\"Types.geometry_msgs_Vector3\"\u001b[0m\u001b[1;39m\n",
      "    \u001b[1;39m}\u001b[0m\u001b[1;39m\n",
      "  \u001b[1;39m}\u001b[0m\u001b[1;39m,\n",
      "  \u001b[1;39m{\n",
      "    \u001b[0m\u001b[34;1m\"property\"\u001b[0m\u001b[1;39m: \u001b[0m\u001b[1;39m{\n",
      "      \u001b[0m\u001b[34;1m\"fullyQualifiedName\"\u001b[0m\u001b[1;39m: \u001b[0m\u001b[0;32m\"Types.geometry_msgs_Vector3.x\"\u001b[0m\u001b[1;39m,\n",
      "      \u001b[0m\u001b[34;1m\"dataType\"\u001b[0m\u001b[1;39m: \u001b[0m\u001b[0;32m\"DOUBLE\"\u001b[0m\u001b[1;39m,\n",
      "      \u001b[0m\u001b[34;1m\"dataEncoding\"\u001b[0m\u001b[1;39m: \u001b[0m\u001b[0;32m\"TYPED\"\u001b[0m\u001b[1;39m\n",
      "    \u001b[1;39m}\u001b[0m\u001b[1;39m\n",
      "  \u001b[1;39m}\u001b[0m\u001b[1;39m,\n",
      "  \u001b[1;39m{\n",
      "    \u001b[0m\u001b[34;1m\"property\"\u001b[0m\u001b[1;39m: \u001b[0m\u001b[1;39m{\n",
      "      \u001b[0m\u001b[34;1m\"fullyQualifiedName\"\u001b[0m\u001b[1;39m: \u001b[0m\u001b[0;32m\"Types.geometry_msgs_Vector3.y\"\u001b[0m\u001b[1;39m,\n",
      "      \u001b[0m\u001b[34;1m\"dataType\"\u001b[0m\u001b[1;39m: \u001b[0m\u001b[0;32m\"DOUBLE\"\u001b[0m\u001b[1;39m,\n",
      "      \u001b[0m\u001b[34;1m\"dataEncoding\"\u001b[0m\u001b[1;39m: \u001b[0m\u001b[0;32m\"TYPED\"\u001b[0m\u001b[1;39m\n",
      "    \u001b[1;39m}\u001b[0m\u001b[1;39m\n",
      "  \u001b[1;39m}\u001b[0m\u001b[1;39m,\n",
      "  \u001b[1;39m{\n",
      "    \u001b[0m\u001b[34;1m\"property\"\u001b[0m\u001b[1;39m: \u001b[0m\u001b[1;39m{\n",
      "      \u001b[0m\u001b[34;1m\"fullyQualifiedName\"\u001b[0m\u001b[1;39m: \u001b[0m\u001b[0;32m\"Types.geometry_msgs_Vector3.z\"\u001b[0m\u001b[1;39m,\n",
      "      \u001b[0m\u001b[34;1m\"dataType\"\u001b[0m\u001b[1;39m: \u001b[0m\u001b[0;32m\"DOUBLE\"\u001b[0m\u001b[1;39m,\n",
      "      \u001b[0m\u001b[34;1m\"dataEncoding\"\u001b[0m\u001b[1;39m: \u001b[0m\u001b[0;32m\"TYPED\"\u001b[0m\u001b[1;39m\n",
      "    \u001b[1;39m}\u001b[0m\u001b[1;39m\n",
      "  \u001b[1;39m}\u001b[0m\u001b[1;39m,\n",
      "  \u001b[1;39m{\n",
      "    \u001b[0m\u001b[34;1m\"property\"\u001b[0m\u001b[1;39m: \u001b[0m\u001b[1;39m{\n",
      "      \u001b[0m\u001b[34;1m\"fullyQualifiedName\"\u001b[0m\u001b[1;39m: \u001b[0m\u001b[0;32m\"Types.sensor_msgs_msg_Imu.angular_velocity\"\u001b[0m\u001b[1;39m,\n",
      "      \u001b[0m\u001b[34;1m\"dataType\"\u001b[0m\u001b[1;39m: \u001b[0m\u001b[0;32m\"STRUCT\"\u001b[0m\u001b[1;39m,\n",
      "      \u001b[0m\u001b[34;1m\"structFullyQualifiedName\"\u001b[0m\u001b[1;39m: \u001b[0m\u001b[0;32m\"Types.geometry_msgs_Vector3\"\u001b[0m\u001b[1;39m\n",
      "    \u001b[1;39m}\u001b[0m\u001b[1;39m\n",
      "  \u001b[1;39m}\u001b[0m\u001b[1;39m,\n",
      "  \u001b[1;39m{\n",
      "    \u001b[0m\u001b[34;1m\"property\"\u001b[0m\u001b[1;39m: \u001b[0m\u001b[1;39m{\n",
      "      \u001b[0m\u001b[34;1m\"fullyQualifiedName\"\u001b[0m\u001b[1;39m: \u001b[0m\u001b[0;32m\"Types.sensor_msgs_msg_Imu.angular_velocity_covariance\"\u001b[0m\u001b[1;39m,\n",
      "      \u001b[0m\u001b[34;1m\"dataType\"\u001b[0m\u001b[1;39m: \u001b[0m\u001b[0;32m\"DOUBLE_ARRAY\"\u001b[0m\u001b[1;39m,\n",
      "      \u001b[0m\u001b[34;1m\"dataEncoding\"\u001b[0m\u001b[1;39m: \u001b[0m\u001b[0;32m\"TYPED\"\u001b[0m\u001b[1;39m\n",
      "    \u001b[1;39m}\u001b[0m\u001b[1;39m\n",
      "  \u001b[1;39m}\u001b[0m\u001b[1;39m,\n",
      "  \u001b[1;39m{\n",
      "    \u001b[0m\u001b[34;1m\"property\"\u001b[0m\u001b[1;39m: \u001b[0m\u001b[1;39m{\n",
      "      \u001b[0m\u001b[34;1m\"fullyQualifiedName\"\u001b[0m\u001b[1;39m: \u001b[0m\u001b[0;32m\"Types.sensor_msgs_msg_Imu.linear_acceleration\"\u001b[0m\u001b[1;39m,\n",
      "      \u001b[0m\u001b[34;1m\"dataType\"\u001b[0m\u001b[1;39m: \u001b[0m\u001b[0;32m\"STRUCT\"\u001b[0m\u001b[1;39m,\n",
      "      \u001b[0m\u001b[34;1m\"structFullyQualifiedName\"\u001b[0m\u001b[1;39m: \u001b[0m\u001b[0;32m\"Types.geometry_msgs_Vector3\"\u001b[0m\u001b[1;39m\n",
      "    \u001b[1;39m}\u001b[0m\u001b[1;39m\n",
      "  \u001b[1;39m}\u001b[0m\u001b[1;39m,\n",
      "  \u001b[1;39m{\n",
      "    \u001b[0m\u001b[34;1m\"property\"\u001b[0m\u001b[1;39m: \u001b[0m\u001b[1;39m{\n",
      "      \u001b[0m\u001b[34;1m\"fullyQualifiedName\"\u001b[0m\u001b[1;39m: \u001b[0m\u001b[0;32m\"Types.sensor_msgs_msg_Imu.linear_acceleration_covariance\"\u001b[0m\u001b[1;39m,\n",
      "      \u001b[0m\u001b[34;1m\"dataType\"\u001b[0m\u001b[1;39m: \u001b[0m\u001b[0;32m\"DOUBLE_ARRAY\"\u001b[0m\u001b[1;39m,\n",
      "      \u001b[0m\u001b[34;1m\"dataEncoding\"\u001b[0m\u001b[1;39m: \u001b[0m\u001b[0;32m\"TYPED\"\u001b[0m\u001b[1;39m\n",
      "    \u001b[1;39m}\u001b[0m\u001b[1;39m\n",
      "  \u001b[1;39m}\u001b[0m\u001b[1;39m,\n",
      "  \u001b[1;39m{\n",
      "    \u001b[0m\u001b[34;1m\"sensor\"\u001b[0m\u001b[1;39m: \u001b[0m\u001b[1;39m{\n",
      "      \u001b[0m\u001b[34;1m\"fullyQualifiedName\"\u001b[0m\u001b[1;39m: \u001b[0m\u001b[0;32m\"Vehicle.Acceleration\"\u001b[0m\u001b[1;39m,\n",
      "      \u001b[0m\u001b[34;1m\"dataType\"\u001b[0m\u001b[1;39m: \u001b[0m\u001b[0;32m\"STRUCT\"\u001b[0m\u001b[1;39m,\n",
      "      \u001b[0m\u001b[34;1m\"structFullyQualifiedName\"\u001b[0m\u001b[1;39m: \u001b[0m\u001b[0;32m\"Types.sensor_msgs_msg_Imu\"\u001b[0m\u001b[1;39m\n",
      "    \u001b[1;39m}\u001b[0m\u001b[1;39m\n",
      "  \u001b[1;39m}\u001b[0m\u001b[1;39m\n",
      "\u001b[1;39m]\u001b[0m\n"
     ]
    }
   ],
   "source": [
    "python3 $script_dir/ros2-to-nodes.py --config ${ROS2_CONFIG_FILE} --output data/ros2-nodes.json\n",
    "ROS2_NODES=`cat data/ros2-nodes.json`\n",
    "echo $ROS2_NODES | jq -C"
   ]
  },
  {
   "cell_type": "markdown",
   "metadata": {},
   "source": [
    "The whole json file contains:\n",
    "\n",
    "1. Three branch-nodes, representing ROS2 message.\n",
    "2. Vision Data message is modeled as a `Sensor` with the `dataType` is `STRUCT`. `structFullyQualifiedName` points to another node which models the message's structure.\n",
    "3. New branch for all ROS2 types (optional)\n",
    "4. Three more nodes under every branch\n",
    "5. For each struct, we declare property nodes.\n",
    "\n",
    "### Create or update Signal Catalog\n",
    "\n",
    "Now, using the generated JSON, e.g. `ros2-nodes.json`, we can create (or update the existing) signal catalog by running:"
   ]
  },
  {
   "cell_type": "code",
   "execution_count": null,
   "metadata": {
    "tags": []
   },
   "outputs": [],
   "source": [
    "echo \"Checking for an existing signal catalog...\"\n",
    "SIGNAL_CATALOG_LIST=`aws ${ENDPOINT_URL_OPTION} --region $REGION iotfleetwise list-signal-catalogs`\n",
    "SC_NAME=`echo ${SIGNAL_CATALOG_LIST} | jq -r .summaries[0].name`\n",
    "\n",
    "if [ \"${SC_NAME}\" == \"null\" ]; then\n",
    "    echo \"No signal catalog found. Creating a new one...\"\n",
    "    SIGNAL_CATALOG_ARN=`aws ${ENDPOINT_URL_OPTION} --region $REGION iotfleetwise create-signal-catalog \\\n",
    "    --name \"${SIGNAL_CATALOG_NAME}\" \\\n",
    "    --nodes \"${ROS2_NODES}\" | jq -r .arn`\n",
    "else\n",
    "    echo \"Found an existing catalog ${SC_NAME}. Updating it...\"\n",
    "    SIGNAL_CATALOG_NAME=${SC_NAME}\n",
    "    SIGNAL_CATALOG_ARN=`aws ${ENDPOINT_URL_OPTION} --region $REGION iotfleetwise update-signal-catalog \\\n",
    "            --name \"${SIGNAL_CATALOG_NAME}\" \\\n",
    "            --description \"ROS2 signals\" \\\n",
    "            --nodes-to-update \"${ROS2_NODES}\" | jq -r .arn`\n",
    "fi\n",
    "\n",
    "echo $SIGNAL_CATALOG_ARN"
   ]
  },
  {
   "cell_type": "markdown",
   "metadata": {},
   "source": [
    "To validate the signal catalog creation, run:"
   ]
  },
  {
   "cell_type": "code",
   "execution_count": null,
   "metadata": {
    "scrolled": true,
    "tags": []
   },
   "outputs": [
    {
     "name": "stdout",
     "output_type": "stream",
     "text": [
      "{\n",
      "    \"nodes\": [\n",
      "        {\n",
      "            \"branch\": {\n",
      "                \"fullyQualifiedName\": \"Types\"\n",
      "            }\n",
      "        },\n",
      "        {\n",
      "            \"branch\": {\n",
      "                \"fullyQualifiedName\": \"Vehicle\",\n",
      "                \"description\": \"Vehicle\"\n",
      "            }\n",
      "        },\n",
      "        {\n",
      "            \"branch\": {\n",
      "                \"fullyQualifiedName\": \"Vehicle.Airbag\",\n",
      "                \"description\": \"Vehicle.Airbag\"\n",
      "            }\n",
      "        },\n",
      "        {\n",
      "            \"branch\": {\n",
      "                \"fullyQualifiedName\": \"Vehicle.Cameras\",\n",
      "                \"description\": \"Vehicle.Cameras\"\n",
      "            }\n",
      "        },\n",
      "        {\n",
      "            \"branch\": {\n",
      "                \"fullyQualifiedName\": \"Vehicle.Cameras.Front\",\n",
      "                \"description\": \"Vehicle.Cameras.Front\"\n",
      "            }\n",
      "        },\n",
      "        {\n",
      "            \"sensor\": {\n",
      "                \"fullyQualifiedName\": \"Vehicle.Acceleration\",\n",
      "                \"dataType\": \"STRUCT\",\n",
      "                \"structFullyQualifiedName\": \"Types.sensor_msgs_msg_Imu\"\n",
      "            }\n",
      "        },\n",
      "        {\n",
      "            \"sensor\": {\n",
      "                \"fullyQualifiedName\": \"Vehicle.Speed\",\n",
      "                \"dataType\": \"STRUCT\",\n",
      "                \"structFullyQualifiedName\": \"Types.std_msgs_msg_Float32\"\n",
      "            }\n",
      "        },\n",
      "        {\n",
      "            \"sensor\": {\n",
      "                \"fullyQualifiedName\": \"Vehicle.Airbag.CollisionIntensity\",\n",
      "                \"dataType\": \"STRUCT\",\n",
      "                \"structFullyQualifiedName\": \"Types.std_msgs_msg_Float32\"\n",
      "            }\n",
      "        },\n",
      "        {\n",
      "            \"sensor\": {\n",
      "                \"fullyQualifiedName\": \"Vehicle.Cameras.Front.Image\",\n",
      "                \"dataType\": \"STRUCT\",\n",
      "                \"structFullyQualifiedName\": \"Types.sensor_msgs_msg_CompressedImage\"\n",
      "            }\n",
      "        },\n",
      "        {\n",
      "            \"struct\": {\n",
      "                \"fullyQualifiedName\": \"Types.builtin_interfaces_Time\"\n",
      "            }\n",
      "        },\n",
      "        {\n",
      "            \"struct\": {\n",
      "                \"fullyQualifiedName\": \"Types.geometry_msgs_Quaternion\"\n",
      "            }\n",
      "        },\n",
      "        {\n",
      "            \"struct\": {\n",
      "                \"fullyQualifiedName\": \"Types.geometry_msgs_Vector3\"\n",
      "            }\n",
      "        },\n",
      "        {\n",
      "            \"struct\": {\n",
      "                \"fullyQualifiedName\": \"Types.sensor_msgs_msg_CompressedImage\"\n",
      "            }\n",
      "        },\n",
      "        {\n",
      "            \"struct\": {\n",
      "                \"fullyQualifiedName\": \"Types.sensor_msgs_msg_Imu\"\n",
      "            }\n",
      "        },\n",
      "        {\n",
      "            \"struct\": {\n",
      "                \"fullyQualifiedName\": \"Types.std_msgs_Header\"\n",
      "            }\n",
      "        },\n",
      "        {\n",
      "            \"struct\": {\n",
      "                \"fullyQualifiedName\": \"Types.std_msgs_msg_Float32\"\n",
      "            }\n",
      "        },\n",
      "        {\n",
      "            \"property\": {\n",
      "                \"fullyQualifiedName\": \"Types.builtin_interfaces_Time.nanosec\",\n",
      "                \"dataType\": \"UINT32\",\n",
      "                \"dataEncoding\": \"TYPED\"\n",
      "            }\n",
      "        },\n",
      "        {\n",
      "            \"property\": {\n",
      "                \"fullyQualifiedName\": \"Types.builtin_interfaces_Time.sec\",\n",
      "                \"dataType\": \"INT32\",\n",
      "                \"dataEncoding\": \"TYPED\"\n",
      "            }\n",
      "        },\n",
      "        {\n",
      "            \"property\": {\n",
      "                \"fullyQualifiedName\": \"Types.geometry_msgs_Quaternion.w\",\n",
      "                \"dataType\": \"DOUBLE\",\n",
      "                \"dataEncoding\": \"TYPED\"\n",
      "            }\n",
      "        },\n",
      "        {\n",
      "            \"property\": {\n",
      "                \"fullyQualifiedName\": \"Types.geometry_msgs_Quaternion.x\",\n",
      "                \"dataType\": \"DOUBLE\",\n",
      "                \"dataEncoding\": \"TYPED\"\n",
      "            }\n",
      "        },\n",
      "        {\n",
      "            \"property\": {\n",
      "                \"fullyQualifiedName\": \"Types.geometry_msgs_Quaternion.y\",\n",
      "                \"dataType\": \"DOUBLE\",\n",
      "                \"dataEncoding\": \"TYPED\"\n",
      "            }\n",
      "        },\n",
      "        {\n",
      "            \"property\": {\n",
      "                \"fullyQualifiedName\": \"Types.geometry_msgs_Quaternion.z\",\n",
      "                \"dataType\": \"DOUBLE\",\n",
      "                \"dataEncoding\": \"TYPED\"\n",
      "            }\n",
      "        },\n",
      "        {\n",
      "            \"property\": {\n",
      "                \"fullyQualifiedName\": \"Types.geometry_msgs_Vector3.x\",\n",
      "                \"dataType\": \"DOUBLE\",\n",
      "                \"dataEncoding\": \"TYPED\"\n",
      "            }\n",
      "        },\n",
      "        {\n",
      "            \"property\": {\n",
      "                \"fullyQualifiedName\": \"Types.geometry_msgs_Vector3.y\",\n",
      "                \"dataType\": \"DOUBLE\",\n",
      "                \"dataEncoding\": \"TYPED\"\n",
      "            }\n",
      "        },\n",
      "        {\n",
      "            \"property\": {\n",
      "                \"fullyQualifiedName\": \"Types.geometry_msgs_Vector3.z\",\n",
      "                \"dataType\": \"DOUBLE\",\n",
      "                \"dataEncoding\": \"TYPED\"\n",
      "            }\n",
      "        },\n",
      "        {\n",
      "            \"property\": {\n",
      "                \"fullyQualifiedName\": \"Types.sensor_msgs_msg_CompressedImage.data\",\n",
      "                \"dataType\": \"UINT8_ARRAY\",\n",
      "                \"dataEncoding\": \"BINARY\"\n",
      "            }\n",
      "        },\n",
      "        {\n",
      "            \"property\": {\n",
      "                \"fullyQualifiedName\": \"Types.sensor_msgs_msg_CompressedImage.format\",\n",
      "                \"dataType\": \"STRING\",\n",
      "                \"dataEncoding\": \"TYPED\"\n",
      "            }\n",
      "        },\n",
      "        {\n",
      "            \"property\": {\n",
      "                \"fullyQualifiedName\": \"Types.sensor_msgs_msg_CompressedImage.header\",\n",
      "                \"dataType\": \"STRUCT\",\n",
      "                \"dataEncoding\": \"TYPED\",\n",
      "                \"structFullyQualifiedName\": \"Types.std_msgs_Header\"\n",
      "            }\n",
      "        },\n",
      "        {\n",
      "            \"property\": {\n",
      "                \"fullyQualifiedName\": \"Types.sensor_msgs_msg_Imu.angular_velocity\",\n",
      "                \"dataType\": \"STRUCT\",\n",
      "                \"dataEncoding\": \"TYPED\",\n",
      "                \"structFullyQualifiedName\": \"Types.geometry_msgs_Vector3\"\n",
      "            }\n",
      "        },\n",
      "        {\n",
      "            \"property\": {\n",
      "                \"fullyQualifiedName\": \"Types.sensor_msgs_msg_Imu.angular_velocity_covariance\",\n",
      "                \"dataType\": \"DOUBLE_ARRAY\",\n",
      "                \"dataEncoding\": \"TYPED\"\n",
      "            }\n",
      "        },\n",
      "        {\n",
      "            \"property\": {\n",
      "                \"fullyQualifiedName\": \"Types.sensor_msgs_msg_Imu.header\",\n",
      "                \"dataType\": \"STRUCT\",\n",
      "                \"dataEncoding\": \"TYPED\",\n",
      "                \"structFullyQualifiedName\": \"Types.std_msgs_Header\"\n",
      "            }\n",
      "        },\n",
      "        {\n",
      "            \"property\": {\n",
      "                \"fullyQualifiedName\": \"Types.sensor_msgs_msg_Imu.linear_acceleration\",\n",
      "                \"dataType\": \"STRUCT\",\n",
      "                \"dataEncoding\": \"TYPED\",\n",
      "                \"structFullyQualifiedName\": \"Types.geometry_msgs_Vector3\"\n",
      "            }\n",
      "        },\n",
      "        {\n",
      "            \"property\": {\n",
      "                \"fullyQualifiedName\": \"Types.sensor_msgs_msg_Imu.linear_acceleration_covariance\",\n",
      "                \"dataType\": \"DOUBLE_ARRAY\",\n",
      "                \"dataEncoding\": \"TYPED\"\n",
      "            }\n",
      "        },\n",
      "        {\n",
      "            \"property\": {\n",
      "                \"fullyQualifiedName\": \"Types.sensor_msgs_msg_Imu.orientation\",\n",
      "                \"dataType\": \"STRUCT\",\n",
      "                \"dataEncoding\": \"TYPED\",\n",
      "                \"structFullyQualifiedName\": \"Types.geometry_msgs_Quaternion\"\n",
      "            }\n",
      "        },\n",
      "        {\n",
      "            \"property\": {\n",
      "                \"fullyQualifiedName\": \"Types.sensor_msgs_msg_Imu.orientation_covariance\",\n",
      "                \"dataType\": \"DOUBLE_ARRAY\",\n",
      "                \"dataEncoding\": \"TYPED\"\n",
      "            }\n",
      "        },\n",
      "        {\n",
      "            \"property\": {\n",
      "                \"fullyQualifiedName\": \"Types.std_msgs_Header.frame_id\",\n",
      "                \"dataType\": \"STRING\",\n",
      "                \"dataEncoding\": \"TYPED\"\n",
      "            }\n",
      "        },\n",
      "        {\n",
      "            \"property\": {\n",
      "                \"fullyQualifiedName\": \"Types.std_msgs_Header.stamp\",\n",
      "                \"dataType\": \"STRUCT\",\n",
      "                \"dataEncoding\": \"TYPED\",\n",
      "                \"structFullyQualifiedName\": \"Types.builtin_interfaces_Time\"\n",
      "            }\n",
      "        },\n",
      "        {\n",
      "            \"property\": {\n",
      "                \"fullyQualifiedName\": \"Types.std_msgs_msg_Float32.data\",\n",
      "                \"dataType\": \"FLOAT\",\n",
      "                \"dataEncoding\": \"TYPED\"\n",
      "            }\n",
      "        }\n",
      "    ]\n",
      "}\n"
     ]
    }
   ],
   "source": [
    "aws ${ENDPOINT_URL_OPTION} --region $REGION iotfleetwise list-signal-catalog-nodes --name \"${SIGNAL_CATALOG_NAME}\""
   ]
  },
  {
   "cell_type": "markdown",
   "metadata": {},
   "source": [
    "As a response, you will get the originally generated json with the parent field `nodes`.\n",
    "\n",
    "### Create and activate Model Manifest\n",
    "\n",
    "Model Manifest only requires a list of Sensors from the signal catalog. To simply filter these nodes out, run:"
   ]
  },
  {
   "cell_type": "code",
   "execution_count": null,
   "metadata": {
    "tags": []
   },
   "outputs": [
    {
     "name": "stdout",
     "output_type": "stream",
     "text": [
      "\u001b[1;39m[\n",
      "  \u001b[0;32m\"Vehicle.Cameras.Front.Image\"\u001b[0m\u001b[1;39m,\n",
      "  \u001b[0;32m\"Vehicle.Speed\"\u001b[0m\u001b[1;39m,\n",
      "  \u001b[0;32m\"Vehicle.Airbag.CollisionIntensity\"\u001b[0m\u001b[1;39m,\n",
      "  \u001b[0;32m\"Vehicle.Acceleration\"\u001b[0m\u001b[1;39m\n",
      "\u001b[1;39m]\u001b[0m\n"
     ]
    }
   ],
   "source": [
    "NODE_LIST=`( echo ${ROS2_NODES} | jq -r '.[].sensor.fullyQualifiedName' | grep Vehicle\\\\. ) | jq -Rn '[inputs]'`\n",
    "echo $NODE_LIST | jq -C"
   ]
  },
  {
   "cell_type": "markdown",
   "metadata": {},
   "source": [
    "Then create and activate Model Manifest:"
   ]
  },
  {
   "cell_type": "code",
   "execution_count": null,
   "metadata": {
    "tags": []
   },
   "outputs": [
    {
     "name": "stdout",
     "output_type": "stream",
     "text": [
      "{\n",
      "    \"arn\": \"arn:aws:iotfleetwise:eu-central-1:687737027363:model-manifest/ROS2-model-manifest\"\n",
      "}\n",
      "arn:aws:iotfleetwise:eu-central-1:687737027363:model-manifest/ROS2-model-manifest\n"
     ]
    }
   ],
   "source": [
    "aws ${ENDPOINT_URL_OPTION} --region $REGION iotfleetwise create-model-manifest \\\n",
    "    --name ${MODEL_MANIFEST_NAME} \\\n",
    "    --signal-catalog-arn ${SIGNAL_CATALOG_ARN} \\\n",
    "    --nodes \"${NODE_LIST}\"\n",
    "\n",
    "MODEL_MANIFEST_ARN=`aws ${ENDPOINT_URL_OPTION} --region $REGION iotfleetwise update-model-manifest \\\n",
    "    --name ${MODEL_MANIFEST_NAME} \\\n",
    "    --status ACTIVE | jq -r .arn`\n",
    "\n",
    "echo ${MODEL_MANIFEST_ARN}"
   ]
  },
  {
   "cell_type": "markdown",
   "metadata": {},
   "source": [
    "### Generating CreateDecoderManifest input\n",
    "\n",
    "Decoder Manifest contains ROS2 message representation in a specific format. Decoder Manifest contains all crucial information about the message structure and field types that are used, which is required for decoding of the binary data transferred to the cloud service.\n",
    "\n",
    "We will again use the previously created `ROS2_CONFIG_FILE` to generate this file."
   ]
  },
  {
   "cell_type": "code",
   "execution_count": null,
   "metadata": {
    "scrolled": true,
    "tags": []
   },
   "outputs": [
    {
     "name": "stdout",
     "output_type": "stream",
     "text": [
      "\u001b[1;39m[\n",
      "  \u001b[1;39m{\n",
      "    \u001b[0m\u001b[34;1m\"fullyQualifiedName\"\u001b[0m\u001b[1;39m: \u001b[0m\u001b[0;32m\"Vehicle.Cameras.Front.Image\"\u001b[0m\u001b[1;39m,\n",
      "    \u001b[0m\u001b[34;1m\"type\"\u001b[0m\u001b[1;39m: \u001b[0m\u001b[0;32m\"MESSAGE_SIGNAL\"\u001b[0m\u001b[1;39m,\n",
      "    \u001b[0m\u001b[34;1m\"interfaceId\"\u001b[0m\u001b[1;39m: \u001b[0m\u001b[0;32m\"10\"\u001b[0m\u001b[1;39m,\n",
      "    \u001b[0m\u001b[34;1m\"messageSignal\"\u001b[0m\u001b[1;39m: \u001b[0m\u001b[1;39m{\n",
      "      \u001b[0m\u001b[34;1m\"topicName\"\u001b[0m\u001b[1;39m: \u001b[0m\u001b[0;32m\"/carla/ego_vehicle/rgb_front/image_compressed:sensor_msgs/msg/CompressedImage\"\u001b[0m\u001b[1;39m,\n",
      "      \u001b[0m\u001b[34;1m\"structuredMessage\"\u001b[0m\u001b[1;39m: \u001b[0m\u001b[1;39m{\n",
      "        \u001b[0m\u001b[34;1m\"structuredMessageDefinition\"\u001b[0m\u001b[1;39m: \u001b[0m\u001b[1;39m[\n",
      "          \u001b[1;39m{\n",
      "            \u001b[0m\u001b[34;1m\"fieldName\"\u001b[0m\u001b[1;39m: \u001b[0m\u001b[0;32m\"header\"\u001b[0m\u001b[1;39m,\n",
      "            \u001b[0m\u001b[34;1m\"dataType\"\u001b[0m\u001b[1;39m: \u001b[0m\u001b[1;39m{\n",
      "              \u001b[0m\u001b[34;1m\"structuredMessageDefinition\"\u001b[0m\u001b[1;39m: \u001b[0m\u001b[1;39m[\n",
      "                \u001b[1;39m{\n",
      "                  \u001b[0m\u001b[34;1m\"fieldName\"\u001b[0m\u001b[1;39m: \u001b[0m\u001b[0;32m\"stamp\"\u001b[0m\u001b[1;39m,\n",
      "                  \u001b[0m\u001b[34;1m\"dataType\"\u001b[0m\u001b[1;39m: \u001b[0m\u001b[1;39m{\n",
      "                    \u001b[0m\u001b[34;1m\"structuredMessageDefinition\"\u001b[0m\u001b[1;39m: \u001b[0m\u001b[1;39m[\n",
      "                      \u001b[1;39m{\n",
      "                        \u001b[0m\u001b[34;1m\"fieldName\"\u001b[0m\u001b[1;39m: \u001b[0m\u001b[0;32m\"sec\"\u001b[0m\u001b[1;39m,\n",
      "                        \u001b[0m\u001b[34;1m\"dataType\"\u001b[0m\u001b[1;39m: \u001b[0m\u001b[1;39m{\n",
      "                          \u001b[0m\u001b[34;1m\"primitiveMessageDefinition\"\u001b[0m\u001b[1;39m: \u001b[0m\u001b[1;39m{\n",
      "                            \u001b[0m\u001b[34;1m\"ros2PrimitiveMessageDefinition\"\u001b[0m\u001b[1;39m: \u001b[0m\u001b[1;39m{\n",
      "                              \u001b[0m\u001b[34;1m\"primitiveType\"\u001b[0m\u001b[1;39m: \u001b[0m\u001b[0;32m\"INT32\"\u001b[0m\u001b[1;39m\n",
      "                            \u001b[1;39m}\u001b[0m\u001b[1;39m\n",
      "                          \u001b[1;39m}\u001b[0m\u001b[1;39m\n",
      "                        \u001b[1;39m}\u001b[0m\u001b[1;39m\n",
      "                      \u001b[1;39m}\u001b[0m\u001b[1;39m,\n",
      "                      \u001b[1;39m{\n",
      "                        \u001b[0m\u001b[34;1m\"fieldName\"\u001b[0m\u001b[1;39m: \u001b[0m\u001b[0;32m\"nanosec\"\u001b[0m\u001b[1;39m,\n",
      "                        \u001b[0m\u001b[34;1m\"dataType\"\u001b[0m\u001b[1;39m: \u001b[0m\u001b[1;39m{\n",
      "                          \u001b[0m\u001b[34;1m\"primitiveMessageDefinition\"\u001b[0m\u001b[1;39m: \u001b[0m\u001b[1;39m{\n",
      "                            \u001b[0m\u001b[34;1m\"ros2PrimitiveMessageDefinition\"\u001b[0m\u001b[1;39m: \u001b[0m\u001b[1;39m{\n",
      "                              \u001b[0m\u001b[34;1m\"primitiveType\"\u001b[0m\u001b[1;39m: \u001b[0m\u001b[0;32m\"UINT32\"\u001b[0m\u001b[1;39m\n",
      "                            \u001b[1;39m}\u001b[0m\u001b[1;39m\n",
      "                          \u001b[1;39m}\u001b[0m\u001b[1;39m\n",
      "                        \u001b[1;39m}\u001b[0m\u001b[1;39m\n",
      "                      \u001b[1;39m}\u001b[0m\u001b[1;39m\n",
      "                    \u001b[1;39m]\u001b[0m\u001b[1;39m\n",
      "                  \u001b[1;39m}\u001b[0m\u001b[1;39m\n",
      "                \u001b[1;39m}\u001b[0m\u001b[1;39m,\n",
      "                \u001b[1;39m{\n",
      "                  \u001b[0m\u001b[34;1m\"fieldName\"\u001b[0m\u001b[1;39m: \u001b[0m\u001b[0;32m\"frame_id\"\u001b[0m\u001b[1;39m,\n",
      "                  \u001b[0m\u001b[34;1m\"dataType\"\u001b[0m\u001b[1;39m: \u001b[0m\u001b[1;39m{\n",
      "                    \u001b[0m\u001b[34;1m\"primitiveMessageDefinition\"\u001b[0m\u001b[1;39m: \u001b[0m\u001b[1;39m{\n",
      "                      \u001b[0m\u001b[34;1m\"ros2PrimitiveMessageDefinition\"\u001b[0m\u001b[1;39m: \u001b[0m\u001b[1;39m{\n",
      "                        \u001b[0m\u001b[34;1m\"primitiveType\"\u001b[0m\u001b[1;39m: \u001b[0m\u001b[0;32m\"STRING\"\u001b[0m\u001b[1;39m\n",
      "                      \u001b[1;39m}\u001b[0m\u001b[1;39m\n",
      "                    \u001b[1;39m}\u001b[0m\u001b[1;39m\n",
      "                  \u001b[1;39m}\u001b[0m\u001b[1;39m\n",
      "                \u001b[1;39m}\u001b[0m\u001b[1;39m\n",
      "              \u001b[1;39m]\u001b[0m\u001b[1;39m\n",
      "            \u001b[1;39m}\u001b[0m\u001b[1;39m\n",
      "          \u001b[1;39m}\u001b[0m\u001b[1;39m,\n",
      "          \u001b[1;39m{\n",
      "            \u001b[0m\u001b[34;1m\"fieldName\"\u001b[0m\u001b[1;39m: \u001b[0m\u001b[0;32m\"format\"\u001b[0m\u001b[1;39m,\n",
      "            \u001b[0m\u001b[34;1m\"dataType\"\u001b[0m\u001b[1;39m: \u001b[0m\u001b[1;39m{\n",
      "              \u001b[0m\u001b[34;1m\"primitiveMessageDefinition\"\u001b[0m\u001b[1;39m: \u001b[0m\u001b[1;39m{\n",
      "                \u001b[0m\u001b[34;1m\"ros2PrimitiveMessageDefinition\"\u001b[0m\u001b[1;39m: \u001b[0m\u001b[1;39m{\n",
      "                  \u001b[0m\u001b[34;1m\"primitiveType\"\u001b[0m\u001b[1;39m: \u001b[0m\u001b[0;32m\"STRING\"\u001b[0m\u001b[1;39m\n",
      "                \u001b[1;39m}\u001b[0m\u001b[1;39m\n",
      "              \u001b[1;39m}\u001b[0m\u001b[1;39m\n",
      "            \u001b[1;39m}\u001b[0m\u001b[1;39m\n",
      "          \u001b[1;39m}\u001b[0m\u001b[1;39m,\n",
      "          \u001b[1;39m{\n",
      "            \u001b[0m\u001b[34;1m\"fieldName\"\u001b[0m\u001b[1;39m: \u001b[0m\u001b[0;32m\"data\"\u001b[0m\u001b[1;39m,\n",
      "            \u001b[0m\u001b[34;1m\"dataType\"\u001b[0m\u001b[1;39m: \u001b[0m\u001b[1;39m{\n",
      "              \u001b[0m\u001b[34;1m\"structuredMessageListDefinition\"\u001b[0m\u001b[1;39m: \u001b[0m\u001b[1;39m{\n",
      "                \u001b[0m\u001b[34;1m\"name\"\u001b[0m\u001b[1;39m: \u001b[0m\u001b[0;32m\"listType\"\u001b[0m\u001b[1;39m,\n",
      "                \u001b[0m\u001b[34;1m\"memberType\"\u001b[0m\u001b[1;39m: \u001b[0m\u001b[1;39m{\n",
      "                  \u001b[0m\u001b[34;1m\"primitiveMessageDefinition\"\u001b[0m\u001b[1;39m: \u001b[0m\u001b[1;39m{\n",
      "                    \u001b[0m\u001b[34;1m\"ros2PrimitiveMessageDefinition\"\u001b[0m\u001b[1;39m: \u001b[0m\u001b[1;39m{\n",
      "                      \u001b[0m\u001b[34;1m\"primitiveType\"\u001b[0m\u001b[1;39m: \u001b[0m\u001b[0;32m\"UINT8\"\u001b[0m\u001b[1;39m\n",
      "                    \u001b[1;39m}\u001b[0m\u001b[1;39m\n",
      "                  \u001b[1;39m}\u001b[0m\u001b[1;39m\n",
      "                \u001b[1;39m}\u001b[0m\u001b[1;39m,\n",
      "                \u001b[0m\u001b[34;1m\"capacity\"\u001b[0m\u001b[1;39m: \u001b[0m\u001b[0;39m0\u001b[0m\u001b[1;39m,\n",
      "                \u001b[0m\u001b[34;1m\"listType\"\u001b[0m\u001b[1;39m: \u001b[0m\u001b[0;32m\"DYNAMIC_UNBOUNDED_CAPACITY\"\u001b[0m\u001b[1;39m\n",
      "              \u001b[1;39m}\u001b[0m\u001b[1;39m\n",
      "            \u001b[1;39m}\u001b[0m\u001b[1;39m\n",
      "          \u001b[1;39m}\u001b[0m\u001b[1;39m\n",
      "        \u001b[1;39m]\u001b[0m\u001b[1;39m\n",
      "      \u001b[1;39m}\u001b[0m\u001b[1;39m\n",
      "    \u001b[1;39m}\u001b[0m\u001b[1;39m\n",
      "  \u001b[1;39m}\u001b[0m\u001b[1;39m,\n",
      "  \u001b[1;39m{\n",
      "    \u001b[0m\u001b[34;1m\"fullyQualifiedName\"\u001b[0m\u001b[1;39m: \u001b[0m\u001b[0;32m\"Vehicle.Speed\"\u001b[0m\u001b[1;39m,\n",
      "    \u001b[0m\u001b[34;1m\"type\"\u001b[0m\u001b[1;39m: \u001b[0m\u001b[0;32m\"MESSAGE_SIGNAL\"\u001b[0m\u001b[1;39m,\n",
      "    \u001b[0m\u001b[34;1m\"interfaceId\"\u001b[0m\u001b[1;39m: \u001b[0m\u001b[0;32m\"10\"\u001b[0m\u001b[1;39m,\n",
      "    \u001b[0m\u001b[34;1m\"messageSignal\"\u001b[0m\u001b[1;39m: \u001b[0m\u001b[1;39m{\n",
      "      \u001b[0m\u001b[34;1m\"topicName\"\u001b[0m\u001b[1;39m: \u001b[0m\u001b[0;32m\"/carla/ego_vehicle/speedometer:std_msgs/msg/Float32\"\u001b[0m\u001b[1;39m,\n",
      "      \u001b[0m\u001b[34;1m\"structuredMessage\"\u001b[0m\u001b[1;39m: \u001b[0m\u001b[1;39m{\n",
      "        \u001b[0m\u001b[34;1m\"structuredMessageDefinition\"\u001b[0m\u001b[1;39m: \u001b[0m\u001b[1;39m[\n",
      "          \u001b[1;39m{\n",
      "            \u001b[0m\u001b[34;1m\"fieldName\"\u001b[0m\u001b[1;39m: \u001b[0m\u001b[0;32m\"data\"\u001b[0m\u001b[1;39m,\n",
      "            \u001b[0m\u001b[34;1m\"dataType\"\u001b[0m\u001b[1;39m: \u001b[0m\u001b[1;39m{\n",
      "              \u001b[0m\u001b[34;1m\"primitiveMessageDefinition\"\u001b[0m\u001b[1;39m: \u001b[0m\u001b[1;39m{\n",
      "                \u001b[0m\u001b[34;1m\"ros2PrimitiveMessageDefinition\"\u001b[0m\u001b[1;39m: \u001b[0m\u001b[1;39m{\n",
      "                  \u001b[0m\u001b[34;1m\"primitiveType\"\u001b[0m\u001b[1;39m: \u001b[0m\u001b[0;32m\"FLOAT32\"\u001b[0m\u001b[1;39m\n",
      "                \u001b[1;39m}\u001b[0m\u001b[1;39m\n",
      "              \u001b[1;39m}\u001b[0m\u001b[1;39m\n",
      "            \u001b[1;39m}\u001b[0m\u001b[1;39m\n",
      "          \u001b[1;39m}\u001b[0m\u001b[1;39m\n",
      "        \u001b[1;39m]\u001b[0m\u001b[1;39m\n",
      "      \u001b[1;39m}\u001b[0m\u001b[1;39m\n",
      "    \u001b[1;39m}\u001b[0m\u001b[1;39m\n",
      "  \u001b[1;39m}\u001b[0m\u001b[1;39m,\n",
      "  \u001b[1;39m{\n",
      "    \u001b[0m\u001b[34;1m\"fullyQualifiedName\"\u001b[0m\u001b[1;39m: \u001b[0m\u001b[0;32m\"Vehicle.Airbag.CollisionIntensity\"\u001b[0m\u001b[1;39m,\n",
      "    \u001b[0m\u001b[34;1m\"type\"\u001b[0m\u001b[1;39m: \u001b[0m\u001b[0;32m\"MESSAGE_SIGNAL\"\u001b[0m\u001b[1;39m,\n",
      "    \u001b[0m\u001b[34;1m\"interfaceId\"\u001b[0m\u001b[1;39m: \u001b[0m\u001b[0;32m\"10\"\u001b[0m\u001b[1;39m,\n",
      "    \u001b[0m\u001b[34;1m\"messageSignal\"\u001b[0m\u001b[1;39m: \u001b[0m\u001b[1;39m{\n",
      "      \u001b[0m\u001b[34;1m\"topicName\"\u001b[0m\u001b[1;39m: \u001b[0m\u001b[0;32m\"/carla/ego_vehicle/collision_intensity:std_msgs/msg/Float32\"\u001b[0m\u001b[1;39m,\n",
      "      \u001b[0m\u001b[34;1m\"structuredMessage\"\u001b[0m\u001b[1;39m: \u001b[0m\u001b[1;39m{\n",
      "        \u001b[0m\u001b[34;1m\"structuredMessageDefinition\"\u001b[0m\u001b[1;39m: \u001b[0m\u001b[1;39m[\n",
      "          \u001b[1;39m{\n",
      "            \u001b[0m\u001b[34;1m\"fieldName\"\u001b[0m\u001b[1;39m: \u001b[0m\u001b[0;32m\"data\"\u001b[0m\u001b[1;39m,\n",
      "            \u001b[0m\u001b[34;1m\"dataType\"\u001b[0m\u001b[1;39m: \u001b[0m\u001b[1;39m{\n",
      "              \u001b[0m\u001b[34;1m\"primitiveMessageDefinition\"\u001b[0m\u001b[1;39m: \u001b[0m\u001b[1;39m{\n",
      "                \u001b[0m\u001b[34;1m\"ros2PrimitiveMessageDefinition\"\u001b[0m\u001b[1;39m: \u001b[0m\u001b[1;39m{\n",
      "                  \u001b[0m\u001b[34;1m\"primitiveType\"\u001b[0m\u001b[1;39m: \u001b[0m\u001b[0;32m\"FLOAT32\"\u001b[0m\u001b[1;39m\n",
      "                \u001b[1;39m}\u001b[0m\u001b[1;39m\n",
      "              \u001b[1;39m}\u001b[0m\u001b[1;39m\n",
      "            \u001b[1;39m}\u001b[0m\u001b[1;39m\n",
      "          \u001b[1;39m}\u001b[0m\u001b[1;39m\n",
      "        \u001b[1;39m]\u001b[0m\u001b[1;39m\n",
      "      \u001b[1;39m}\u001b[0m\u001b[1;39m\n",
      "    \u001b[1;39m}\u001b[0m\u001b[1;39m\n",
      "  \u001b[1;39m}\u001b[0m\u001b[1;39m,\n",
      "  \u001b[1;39m{\n",
      "    \u001b[0m\u001b[34;1m\"fullyQualifiedName\"\u001b[0m\u001b[1;39m: \u001b[0m\u001b[0;32m\"Vehicle.Acceleration\"\u001b[0m\u001b[1;39m,\n",
      "    \u001b[0m\u001b[34;1m\"type\"\u001b[0m\u001b[1;39m: \u001b[0m\u001b[0;32m\"MESSAGE_SIGNAL\"\u001b[0m\u001b[1;39m,\n",
      "    \u001b[0m\u001b[34;1m\"interfaceId\"\u001b[0m\u001b[1;39m: \u001b[0m\u001b[0;32m\"10\"\u001b[0m\u001b[1;39m,\n",
      "    \u001b[0m\u001b[34;1m\"messageSignal\"\u001b[0m\u001b[1;39m: \u001b[0m\u001b[1;39m{\n",
      "      \u001b[0m\u001b[34;1m\"topicName\"\u001b[0m\u001b[1;39m: \u001b[0m\u001b[0;32m\"/carla/ego_vehicle/imu:sensor_msgs/msg/Imu\"\u001b[0m\u001b[1;39m,\n",
      "      \u001b[0m\u001b[34;1m\"structuredMessage\"\u001b[0m\u001b[1;39m: \u001b[0m\u001b[1;39m{\n",
      "        \u001b[0m\u001b[34;1m\"structuredMessageDefinition\"\u001b[0m\u001b[1;39m: \u001b[0m\u001b[1;39m[\n",
      "          \u001b[1;39m{\n",
      "            \u001b[0m\u001b[34;1m\"fieldName\"\u001b[0m\u001b[1;39m: \u001b[0m\u001b[0;32m\"header\"\u001b[0m\u001b[1;39m,\n",
      "            \u001b[0m\u001b[34;1m\"dataType\"\u001b[0m\u001b[1;39m: \u001b[0m\u001b[1;39m{\n",
      "              \u001b[0m\u001b[34;1m\"structuredMessageDefinition\"\u001b[0m\u001b[1;39m: \u001b[0m\u001b[1;39m[\n",
      "                \u001b[1;39m{\n",
      "                  \u001b[0m\u001b[34;1m\"fieldName\"\u001b[0m\u001b[1;39m: \u001b[0m\u001b[0;32m\"stamp\"\u001b[0m\u001b[1;39m,\n",
      "                  \u001b[0m\u001b[34;1m\"dataType\"\u001b[0m\u001b[1;39m: \u001b[0m\u001b[1;39m{\n",
      "                    \u001b[0m\u001b[34;1m\"structuredMessageDefinition\"\u001b[0m\u001b[1;39m: \u001b[0m\u001b[1;39m[\n",
      "                      \u001b[1;39m{\n",
      "                        \u001b[0m\u001b[34;1m\"fieldName\"\u001b[0m\u001b[1;39m: \u001b[0m\u001b[0;32m\"sec\"\u001b[0m\u001b[1;39m,\n",
      "                        \u001b[0m\u001b[34;1m\"dataType\"\u001b[0m\u001b[1;39m: \u001b[0m\u001b[1;39m{\n",
      "                          \u001b[0m\u001b[34;1m\"primitiveMessageDefinition\"\u001b[0m\u001b[1;39m: \u001b[0m\u001b[1;39m{\n",
      "                            \u001b[0m\u001b[34;1m\"ros2PrimitiveMessageDefinition\"\u001b[0m\u001b[1;39m: \u001b[0m\u001b[1;39m{\n",
      "                              \u001b[0m\u001b[34;1m\"primitiveType\"\u001b[0m\u001b[1;39m: \u001b[0m\u001b[0;32m\"INT32\"\u001b[0m\u001b[1;39m\n",
      "                            \u001b[1;39m}\u001b[0m\u001b[1;39m\n",
      "                          \u001b[1;39m}\u001b[0m\u001b[1;39m\n",
      "                        \u001b[1;39m}\u001b[0m\u001b[1;39m\n",
      "                      \u001b[1;39m}\u001b[0m\u001b[1;39m,\n",
      "                      \u001b[1;39m{\n",
      "                        \u001b[0m\u001b[34;1m\"fieldName\"\u001b[0m\u001b[1;39m: \u001b[0m\u001b[0;32m\"nanosec\"\u001b[0m\u001b[1;39m,\n",
      "                        \u001b[0m\u001b[34;1m\"dataType\"\u001b[0m\u001b[1;39m: \u001b[0m\u001b[1;39m{\n",
      "                          \u001b[0m\u001b[34;1m\"primitiveMessageDefinition\"\u001b[0m\u001b[1;39m: \u001b[0m\u001b[1;39m{\n",
      "                            \u001b[0m\u001b[34;1m\"ros2PrimitiveMessageDefinition\"\u001b[0m\u001b[1;39m: \u001b[0m\u001b[1;39m{\n",
      "                              \u001b[0m\u001b[34;1m\"primitiveType\"\u001b[0m\u001b[1;39m: \u001b[0m\u001b[0;32m\"UINT32\"\u001b[0m\u001b[1;39m\n",
      "                            \u001b[1;39m}\u001b[0m\u001b[1;39m\n",
      "                          \u001b[1;39m}\u001b[0m\u001b[1;39m\n",
      "                        \u001b[1;39m}\u001b[0m\u001b[1;39m\n",
      "                      \u001b[1;39m}\u001b[0m\u001b[1;39m\n",
      "                    \u001b[1;39m]\u001b[0m\u001b[1;39m\n",
      "                  \u001b[1;39m}\u001b[0m\u001b[1;39m\n",
      "                \u001b[1;39m}\u001b[0m\u001b[1;39m,\n",
      "                \u001b[1;39m{\n",
      "                  \u001b[0m\u001b[34;1m\"fieldName\"\u001b[0m\u001b[1;39m: \u001b[0m\u001b[0;32m\"frame_id\"\u001b[0m\u001b[1;39m,\n",
      "                  \u001b[0m\u001b[34;1m\"dataType\"\u001b[0m\u001b[1;39m: \u001b[0m\u001b[1;39m{\n",
      "                    \u001b[0m\u001b[34;1m\"primitiveMessageDefinition\"\u001b[0m\u001b[1;39m: \u001b[0m\u001b[1;39m{\n",
      "                      \u001b[0m\u001b[34;1m\"ros2PrimitiveMessageDefinition\"\u001b[0m\u001b[1;39m: \u001b[0m\u001b[1;39m{\n",
      "                        \u001b[0m\u001b[34;1m\"primitiveType\"\u001b[0m\u001b[1;39m: \u001b[0m\u001b[0;32m\"STRING\"\u001b[0m\u001b[1;39m\n",
      "                      \u001b[1;39m}\u001b[0m\u001b[1;39m\n",
      "                    \u001b[1;39m}\u001b[0m\u001b[1;39m\n",
      "                  \u001b[1;39m}\u001b[0m\u001b[1;39m\n",
      "                \u001b[1;39m}\u001b[0m\u001b[1;39m\n",
      "              \u001b[1;39m]\u001b[0m\u001b[1;39m\n",
      "            \u001b[1;39m}\u001b[0m\u001b[1;39m\n",
      "          \u001b[1;39m}\u001b[0m\u001b[1;39m,\n",
      "          \u001b[1;39m{\n",
      "            \u001b[0m\u001b[34;1m\"fieldName\"\u001b[0m\u001b[1;39m: \u001b[0m\u001b[0;32m\"orientation\"\u001b[0m\u001b[1;39m,\n",
      "            \u001b[0m\u001b[34;1m\"dataType\"\u001b[0m\u001b[1;39m: \u001b[0m\u001b[1;39m{\n",
      "              \u001b[0m\u001b[34;1m\"structuredMessageDefinition\"\u001b[0m\u001b[1;39m: \u001b[0m\u001b[1;39m[\n",
      "                \u001b[1;39m{\n",
      "                  \u001b[0m\u001b[34;1m\"fieldName\"\u001b[0m\u001b[1;39m: \u001b[0m\u001b[0;32m\"x\"\u001b[0m\u001b[1;39m,\n",
      "                  \u001b[0m\u001b[34;1m\"dataType\"\u001b[0m\u001b[1;39m: \u001b[0m\u001b[1;39m{\n",
      "                    \u001b[0m\u001b[34;1m\"primitiveMessageDefinition\"\u001b[0m\u001b[1;39m: \u001b[0m\u001b[1;39m{\n",
      "                      \u001b[0m\u001b[34;1m\"ros2PrimitiveMessageDefinition\"\u001b[0m\u001b[1;39m: \u001b[0m\u001b[1;39m{\n",
      "                        \u001b[0m\u001b[34;1m\"primitiveType\"\u001b[0m\u001b[1;39m: \u001b[0m\u001b[0;32m\"FLOAT64\"\u001b[0m\u001b[1;39m\n",
      "                      \u001b[1;39m}\u001b[0m\u001b[1;39m\n",
      "                    \u001b[1;39m}\u001b[0m\u001b[1;39m\n",
      "                  \u001b[1;39m}\u001b[0m\u001b[1;39m\n",
      "                \u001b[1;39m}\u001b[0m\u001b[1;39m,\n",
      "                \u001b[1;39m{\n",
      "                  \u001b[0m\u001b[34;1m\"fieldName\"\u001b[0m\u001b[1;39m: \u001b[0m\u001b[0;32m\"y\"\u001b[0m\u001b[1;39m,\n",
      "                  \u001b[0m\u001b[34;1m\"dataType\"\u001b[0m\u001b[1;39m: \u001b[0m\u001b[1;39m{\n",
      "                    \u001b[0m\u001b[34;1m\"primitiveMessageDefinition\"\u001b[0m\u001b[1;39m: \u001b[0m\u001b[1;39m{\n",
      "                      \u001b[0m\u001b[34;1m\"ros2PrimitiveMessageDefinition\"\u001b[0m\u001b[1;39m: \u001b[0m\u001b[1;39m{\n",
      "                        \u001b[0m\u001b[34;1m\"primitiveType\"\u001b[0m\u001b[1;39m: \u001b[0m\u001b[0;32m\"FLOAT64\"\u001b[0m\u001b[1;39m\n",
      "                      \u001b[1;39m}\u001b[0m\u001b[1;39m\n",
      "                    \u001b[1;39m}\u001b[0m\u001b[1;39m\n",
      "                  \u001b[1;39m}\u001b[0m\u001b[1;39m\n",
      "                \u001b[1;39m}\u001b[0m\u001b[1;39m,\n",
      "                \u001b[1;39m{\n",
      "                  \u001b[0m\u001b[34;1m\"fieldName\"\u001b[0m\u001b[1;39m: \u001b[0m\u001b[0;32m\"z\"\u001b[0m\u001b[1;39m,\n",
      "                  \u001b[0m\u001b[34;1m\"dataType\"\u001b[0m\u001b[1;39m: \u001b[0m\u001b[1;39m{\n",
      "                    \u001b[0m\u001b[34;1m\"primitiveMessageDefinition\"\u001b[0m\u001b[1;39m: \u001b[0m\u001b[1;39m{\n",
      "                      \u001b[0m\u001b[34;1m\"ros2PrimitiveMessageDefinition\"\u001b[0m\u001b[1;39m: \u001b[0m\u001b[1;39m{\n",
      "                        \u001b[0m\u001b[34;1m\"primitiveType\"\u001b[0m\u001b[1;39m: \u001b[0m\u001b[0;32m\"FLOAT64\"\u001b[0m\u001b[1;39m\n",
      "                      \u001b[1;39m}\u001b[0m\u001b[1;39m\n",
      "                    \u001b[1;39m}\u001b[0m\u001b[1;39m\n",
      "                  \u001b[1;39m}\u001b[0m\u001b[1;39m\n",
      "                \u001b[1;39m}\u001b[0m\u001b[1;39m,\n",
      "                \u001b[1;39m{\n",
      "                  \u001b[0m\u001b[34;1m\"fieldName\"\u001b[0m\u001b[1;39m: \u001b[0m\u001b[0;32m\"w\"\u001b[0m\u001b[1;39m,\n",
      "                  \u001b[0m\u001b[34;1m\"dataType\"\u001b[0m\u001b[1;39m: \u001b[0m\u001b[1;39m{\n",
      "                    \u001b[0m\u001b[34;1m\"primitiveMessageDefinition\"\u001b[0m\u001b[1;39m: \u001b[0m\u001b[1;39m{\n",
      "                      \u001b[0m\u001b[34;1m\"ros2PrimitiveMessageDefinition\"\u001b[0m\u001b[1;39m: \u001b[0m\u001b[1;39m{\n",
      "                        \u001b[0m\u001b[34;1m\"primitiveType\"\u001b[0m\u001b[1;39m: \u001b[0m\u001b[0;32m\"FLOAT64\"\u001b[0m\u001b[1;39m\n",
      "                      \u001b[1;39m}\u001b[0m\u001b[1;39m\n",
      "                    \u001b[1;39m}\u001b[0m\u001b[1;39m\n",
      "                  \u001b[1;39m}\u001b[0m\u001b[1;39m\n",
      "                \u001b[1;39m}\u001b[0m\u001b[1;39m\n",
      "              \u001b[1;39m]\u001b[0m\u001b[1;39m\n",
      "            \u001b[1;39m}\u001b[0m\u001b[1;39m\n",
      "          \u001b[1;39m}\u001b[0m\u001b[1;39m,\n",
      "          \u001b[1;39m{\n",
      "            \u001b[0m\u001b[34;1m\"fieldName\"\u001b[0m\u001b[1;39m: \u001b[0m\u001b[0;32m\"orientation_covariance\"\u001b[0m\u001b[1;39m,\n",
      "            \u001b[0m\u001b[34;1m\"dataType\"\u001b[0m\u001b[1;39m: \u001b[0m\u001b[1;39m{\n",
      "              \u001b[0m\u001b[34;1m\"structuredMessageListDefinition\"\u001b[0m\u001b[1;39m: \u001b[0m\u001b[1;39m{\n",
      "                \u001b[0m\u001b[34;1m\"name\"\u001b[0m\u001b[1;39m: \u001b[0m\u001b[0;32m\"listType\"\u001b[0m\u001b[1;39m,\n",
      "                \u001b[0m\u001b[34;1m\"memberType\"\u001b[0m\u001b[1;39m: \u001b[0m\u001b[1;39m{\n",
      "                  \u001b[0m\u001b[34;1m\"primitiveMessageDefinition\"\u001b[0m\u001b[1;39m: \u001b[0m\u001b[1;39m{\n",
      "                    \u001b[0m\u001b[34;1m\"ros2PrimitiveMessageDefinition\"\u001b[0m\u001b[1;39m: \u001b[0m\u001b[1;39m{\n",
      "                      \u001b[0m\u001b[34;1m\"primitiveType\"\u001b[0m\u001b[1;39m: \u001b[0m\u001b[0;32m\"FLOAT64\"\u001b[0m\u001b[1;39m\n",
      "                    \u001b[1;39m}\u001b[0m\u001b[1;39m\n",
      "                  \u001b[1;39m}\u001b[0m\u001b[1;39m\n",
      "                \u001b[1;39m}\u001b[0m\u001b[1;39m,\n",
      "                \u001b[0m\u001b[34;1m\"capacity\"\u001b[0m\u001b[1;39m: \u001b[0m\u001b[0;39m9\u001b[0m\u001b[1;39m,\n",
      "                \u001b[0m\u001b[34;1m\"listType\"\u001b[0m\u001b[1;39m: \u001b[0m\u001b[0;32m\"FIXED_CAPACITY\"\u001b[0m\u001b[1;39m\n",
      "              \u001b[1;39m}\u001b[0m\u001b[1;39m\n",
      "            \u001b[1;39m}\u001b[0m\u001b[1;39m\n",
      "          \u001b[1;39m}\u001b[0m\u001b[1;39m,\n",
      "          \u001b[1;39m{\n",
      "            \u001b[0m\u001b[34;1m\"fieldName\"\u001b[0m\u001b[1;39m: \u001b[0m\u001b[0;32m\"angular_velocity\"\u001b[0m\u001b[1;39m,\n",
      "            \u001b[0m\u001b[34;1m\"dataType\"\u001b[0m\u001b[1;39m: \u001b[0m\u001b[1;39m{\n",
      "              \u001b[0m\u001b[34;1m\"structuredMessageDefinition\"\u001b[0m\u001b[1;39m: \u001b[0m\u001b[1;39m[\n",
      "                \u001b[1;39m{\n",
      "                  \u001b[0m\u001b[34;1m\"fieldName\"\u001b[0m\u001b[1;39m: \u001b[0m\u001b[0;32m\"x\"\u001b[0m\u001b[1;39m,\n",
      "                  \u001b[0m\u001b[34;1m\"dataType\"\u001b[0m\u001b[1;39m: \u001b[0m\u001b[1;39m{\n",
      "                    \u001b[0m\u001b[34;1m\"primitiveMessageDefinition\"\u001b[0m\u001b[1;39m: \u001b[0m\u001b[1;39m{\n",
      "                      \u001b[0m\u001b[34;1m\"ros2PrimitiveMessageDefinition\"\u001b[0m\u001b[1;39m: \u001b[0m\u001b[1;39m{\n",
      "                        \u001b[0m\u001b[34;1m\"primitiveType\"\u001b[0m\u001b[1;39m: \u001b[0m\u001b[0;32m\"FLOAT64\"\u001b[0m\u001b[1;39m\n",
      "                      \u001b[1;39m}\u001b[0m\u001b[1;39m\n",
      "                    \u001b[1;39m}\u001b[0m\u001b[1;39m\n",
      "                  \u001b[1;39m}\u001b[0m\u001b[1;39m\n",
      "                \u001b[1;39m}\u001b[0m\u001b[1;39m,\n",
      "                \u001b[1;39m{\n",
      "                  \u001b[0m\u001b[34;1m\"fieldName\"\u001b[0m\u001b[1;39m: \u001b[0m\u001b[0;32m\"y\"\u001b[0m\u001b[1;39m,\n",
      "                  \u001b[0m\u001b[34;1m\"dataType\"\u001b[0m\u001b[1;39m: \u001b[0m\u001b[1;39m{\n",
      "                    \u001b[0m\u001b[34;1m\"primitiveMessageDefinition\"\u001b[0m\u001b[1;39m: \u001b[0m\u001b[1;39m{\n",
      "                      \u001b[0m\u001b[34;1m\"ros2PrimitiveMessageDefinition\"\u001b[0m\u001b[1;39m: \u001b[0m\u001b[1;39m{\n",
      "                        \u001b[0m\u001b[34;1m\"primitiveType\"\u001b[0m\u001b[1;39m: \u001b[0m\u001b[0;32m\"FLOAT64\"\u001b[0m\u001b[1;39m\n",
      "                      \u001b[1;39m}\u001b[0m\u001b[1;39m\n",
      "                    \u001b[1;39m}\u001b[0m\u001b[1;39m\n",
      "                  \u001b[1;39m}\u001b[0m\u001b[1;39m\n",
      "                \u001b[1;39m}\u001b[0m\u001b[1;39m,\n",
      "                \u001b[1;39m{\n",
      "                  \u001b[0m\u001b[34;1m\"fieldName\"\u001b[0m\u001b[1;39m: \u001b[0m\u001b[0;32m\"z\"\u001b[0m\u001b[1;39m,\n",
      "                  \u001b[0m\u001b[34;1m\"dataType\"\u001b[0m\u001b[1;39m: \u001b[0m\u001b[1;39m{\n",
      "                    \u001b[0m\u001b[34;1m\"primitiveMessageDefinition\"\u001b[0m\u001b[1;39m: \u001b[0m\u001b[1;39m{\n",
      "                      \u001b[0m\u001b[34;1m\"ros2PrimitiveMessageDefinition\"\u001b[0m\u001b[1;39m: \u001b[0m\u001b[1;39m{\n",
      "                        \u001b[0m\u001b[34;1m\"primitiveType\"\u001b[0m\u001b[1;39m: \u001b[0m\u001b[0;32m\"FLOAT64\"\u001b[0m\u001b[1;39m\n",
      "                      \u001b[1;39m}\u001b[0m\u001b[1;39m\n",
      "                    \u001b[1;39m}\u001b[0m\u001b[1;39m\n",
      "                  \u001b[1;39m}\u001b[0m\u001b[1;39m\n",
      "                \u001b[1;39m}\u001b[0m\u001b[1;39m\n",
      "              \u001b[1;39m]\u001b[0m\u001b[1;39m\n",
      "            \u001b[1;39m}\u001b[0m\u001b[1;39m\n",
      "          \u001b[1;39m}\u001b[0m\u001b[1;39m,\n",
      "          \u001b[1;39m{\n",
      "            \u001b[0m\u001b[34;1m\"fieldName\"\u001b[0m\u001b[1;39m: \u001b[0m\u001b[0;32m\"angular_velocity_covariance\"\u001b[0m\u001b[1;39m,\n",
      "            \u001b[0m\u001b[34;1m\"dataType\"\u001b[0m\u001b[1;39m: \u001b[0m\u001b[1;39m{\n",
      "              \u001b[0m\u001b[34;1m\"structuredMessageListDefinition\"\u001b[0m\u001b[1;39m: \u001b[0m\u001b[1;39m{\n",
      "                \u001b[0m\u001b[34;1m\"name\"\u001b[0m\u001b[1;39m: \u001b[0m\u001b[0;32m\"listType\"\u001b[0m\u001b[1;39m,\n",
      "                \u001b[0m\u001b[34;1m\"memberType\"\u001b[0m\u001b[1;39m: \u001b[0m\u001b[1;39m{\n",
      "                  \u001b[0m\u001b[34;1m\"primitiveMessageDefinition\"\u001b[0m\u001b[1;39m: \u001b[0m\u001b[1;39m{\n",
      "                    \u001b[0m\u001b[34;1m\"ros2PrimitiveMessageDefinition\"\u001b[0m\u001b[1;39m: \u001b[0m\u001b[1;39m{\n",
      "                      \u001b[0m\u001b[34;1m\"primitiveType\"\u001b[0m\u001b[1;39m: \u001b[0m\u001b[0;32m\"FLOAT64\"\u001b[0m\u001b[1;39m\n",
      "                    \u001b[1;39m}\u001b[0m\u001b[1;39m\n",
      "                  \u001b[1;39m}\u001b[0m\u001b[1;39m\n",
      "                \u001b[1;39m}\u001b[0m\u001b[1;39m,\n",
      "                \u001b[0m\u001b[34;1m\"capacity\"\u001b[0m\u001b[1;39m: \u001b[0m\u001b[0;39m9\u001b[0m\u001b[1;39m,\n",
      "                \u001b[0m\u001b[34;1m\"listType\"\u001b[0m\u001b[1;39m: \u001b[0m\u001b[0;32m\"FIXED_CAPACITY\"\u001b[0m\u001b[1;39m\n",
      "              \u001b[1;39m}\u001b[0m\u001b[1;39m\n",
      "            \u001b[1;39m}\u001b[0m\u001b[1;39m\n",
      "          \u001b[1;39m}\u001b[0m\u001b[1;39m,\n",
      "          \u001b[1;39m{\n",
      "            \u001b[0m\u001b[34;1m\"fieldName\"\u001b[0m\u001b[1;39m: \u001b[0m\u001b[0;32m\"linear_acceleration\"\u001b[0m\u001b[1;39m,\n",
      "            \u001b[0m\u001b[34;1m\"dataType\"\u001b[0m\u001b[1;39m: \u001b[0m\u001b[1;39m{\n",
      "              \u001b[0m\u001b[34;1m\"structuredMessageDefinition\"\u001b[0m\u001b[1;39m: \u001b[0m\u001b[1;39m[\n",
      "                \u001b[1;39m{\n",
      "                  \u001b[0m\u001b[34;1m\"fieldName\"\u001b[0m\u001b[1;39m: \u001b[0m\u001b[0;32m\"x\"\u001b[0m\u001b[1;39m,\n",
      "                  \u001b[0m\u001b[34;1m\"dataType\"\u001b[0m\u001b[1;39m: \u001b[0m\u001b[1;39m{\n",
      "                    \u001b[0m\u001b[34;1m\"primitiveMessageDefinition\"\u001b[0m\u001b[1;39m: \u001b[0m\u001b[1;39m{\n",
      "                      \u001b[0m\u001b[34;1m\"ros2PrimitiveMessageDefinition\"\u001b[0m\u001b[1;39m: \u001b[0m\u001b[1;39m{\n",
      "                        \u001b[0m\u001b[34;1m\"primitiveType\"\u001b[0m\u001b[1;39m: \u001b[0m\u001b[0;32m\"FLOAT64\"\u001b[0m\u001b[1;39m\n",
      "                      \u001b[1;39m}\u001b[0m\u001b[1;39m\n",
      "                    \u001b[1;39m}\u001b[0m\u001b[1;39m\n",
      "                  \u001b[1;39m}\u001b[0m\u001b[1;39m\n",
      "                \u001b[1;39m}\u001b[0m\u001b[1;39m,\n",
      "                \u001b[1;39m{\n",
      "                  \u001b[0m\u001b[34;1m\"fieldName\"\u001b[0m\u001b[1;39m: \u001b[0m\u001b[0;32m\"y\"\u001b[0m\u001b[1;39m,\n",
      "                  \u001b[0m\u001b[34;1m\"dataType\"\u001b[0m\u001b[1;39m: \u001b[0m\u001b[1;39m{\n",
      "                    \u001b[0m\u001b[34;1m\"primitiveMessageDefinition\"\u001b[0m\u001b[1;39m: \u001b[0m\u001b[1;39m{\n",
      "                      \u001b[0m\u001b[34;1m\"ros2PrimitiveMessageDefinition\"\u001b[0m\u001b[1;39m: \u001b[0m\u001b[1;39m{\n",
      "                        \u001b[0m\u001b[34;1m\"primitiveType\"\u001b[0m\u001b[1;39m: \u001b[0m\u001b[0;32m\"FLOAT64\"\u001b[0m\u001b[1;39m\n",
      "                      \u001b[1;39m}\u001b[0m\u001b[1;39m\n",
      "                    \u001b[1;39m}\u001b[0m\u001b[1;39m\n",
      "                  \u001b[1;39m}\u001b[0m\u001b[1;39m\n",
      "                \u001b[1;39m}\u001b[0m\u001b[1;39m,\n",
      "                \u001b[1;39m{\n",
      "                  \u001b[0m\u001b[34;1m\"fieldName\"\u001b[0m\u001b[1;39m: \u001b[0m\u001b[0;32m\"z\"\u001b[0m\u001b[1;39m,\n",
      "                  \u001b[0m\u001b[34;1m\"dataType\"\u001b[0m\u001b[1;39m: \u001b[0m\u001b[1;39m{\n",
      "                    \u001b[0m\u001b[34;1m\"primitiveMessageDefinition\"\u001b[0m\u001b[1;39m: \u001b[0m\u001b[1;39m{\n",
      "                      \u001b[0m\u001b[34;1m\"ros2PrimitiveMessageDefinition\"\u001b[0m\u001b[1;39m: \u001b[0m\u001b[1;39m{\n",
      "                        \u001b[0m\u001b[34;1m\"primitiveType\"\u001b[0m\u001b[1;39m: \u001b[0m\u001b[0;32m\"FLOAT64\"\u001b[0m\u001b[1;39m\n",
      "                      \u001b[1;39m}\u001b[0m\u001b[1;39m\n",
      "                    \u001b[1;39m}\u001b[0m\u001b[1;39m\n",
      "                  \u001b[1;39m}\u001b[0m\u001b[1;39m\n",
      "                \u001b[1;39m}\u001b[0m\u001b[1;39m\n",
      "              \u001b[1;39m]\u001b[0m\u001b[1;39m\n",
      "            \u001b[1;39m}\u001b[0m\u001b[1;39m\n",
      "          \u001b[1;39m}\u001b[0m\u001b[1;39m,\n",
      "          \u001b[1;39m{\n",
      "            \u001b[0m\u001b[34;1m\"fieldName\"\u001b[0m\u001b[1;39m: \u001b[0m\u001b[0;32m\"linear_acceleration_covariance\"\u001b[0m\u001b[1;39m,\n",
      "            \u001b[0m\u001b[34;1m\"dataType\"\u001b[0m\u001b[1;39m: \u001b[0m\u001b[1;39m{\n",
      "              \u001b[0m\u001b[34;1m\"structuredMessageListDefinition\"\u001b[0m\u001b[1;39m: \u001b[0m\u001b[1;39m{\n",
      "                \u001b[0m\u001b[34;1m\"name\"\u001b[0m\u001b[1;39m: \u001b[0m\u001b[0;32m\"listType\"\u001b[0m\u001b[1;39m,\n",
      "                \u001b[0m\u001b[34;1m\"memberType\"\u001b[0m\u001b[1;39m: \u001b[0m\u001b[1;39m{\n",
      "                  \u001b[0m\u001b[34;1m\"primitiveMessageDefinition\"\u001b[0m\u001b[1;39m: \u001b[0m\u001b[1;39m{\n",
      "                    \u001b[0m\u001b[34;1m\"ros2PrimitiveMessageDefinition\"\u001b[0m\u001b[1;39m: \u001b[0m\u001b[1;39m{\n",
      "                      \u001b[0m\u001b[34;1m\"primitiveType\"\u001b[0m\u001b[1;39m: \u001b[0m\u001b[0;32m\"FLOAT64\"\u001b[0m\u001b[1;39m\n",
      "                    \u001b[1;39m}\u001b[0m\u001b[1;39m\n",
      "                  \u001b[1;39m}\u001b[0m\u001b[1;39m\n",
      "                \u001b[1;39m}\u001b[0m\u001b[1;39m,\n",
      "                \u001b[0m\u001b[34;1m\"capacity\"\u001b[0m\u001b[1;39m: \u001b[0m\u001b[0;39m9\u001b[0m\u001b[1;39m,\n",
      "                \u001b[0m\u001b[34;1m\"listType\"\u001b[0m\u001b[1;39m: \u001b[0m\u001b[0;32m\"FIXED_CAPACITY\"\u001b[0m\u001b[1;39m\n",
      "              \u001b[1;39m}\u001b[0m\u001b[1;39m\n",
      "            \u001b[1;39m}\u001b[0m\u001b[1;39m\n",
      "          \u001b[1;39m}\u001b[0m\u001b[1;39m\n",
      "        \u001b[1;39m]\u001b[0m\u001b[1;39m\n",
      "      \u001b[1;39m}\u001b[0m\u001b[1;39m\n",
      "    \u001b[1;39m}\u001b[0m\u001b[1;39m\n",
      "  \u001b[1;39m}\u001b[0m\u001b[1;39m\n",
      "\u001b[1;39m]\u001b[0m\n"
     ]
    }
   ],
   "source": [
    "python3 $script_dir/ros2-to-decoders.py --config ${ROS2_CONFIG_FILE} --output data/ros2-decoders.json\n",
    "ROS2_DECODERS=`cat data/ros2-decoders.json`\n",
    "echo $ROS2_DECODERS | jq -C"
   ]
  },
  {
   "cell_type": "markdown",
   "metadata": {},
   "source": [
    "### Create and activate Decoder Manifest\n",
    "\n",
    "Now you can call CreateDecoderManifest API by running"
   ]
  },
  {
   "cell_type": "code",
   "execution_count": null,
   "metadata": {
    "tags": []
   },
   "outputs": [],
   "source": [
    "DECODER_MANIFEST_ARN=`aws ${ENDPOINT_URL_OPTION} --region $REGION iotfleetwise create-decoder-manifest \\\n",
    "    --name ${DECODER_MANIFEST_NAME} \\\n",
    "    --model-manifest-arn ${MODEL_MANIFEST_ARN} \\\n",
    "    --network-interfaces \"${NETWORK_INTERFACES}\" \\\n",
    "    --signal-decoders \"${ROS2_DECODERS}\" | jq -r .arn`\n",
    "\n",
    "echo ${DECODER_MANIFEST_ARN}"
   ]
  },
  {
   "cell_type": "markdown",
   "metadata": {},
   "source": [
    "Now activate Decoder Manifest:"
   ]
  },
  {
   "cell_type": "code",
   "execution_count": null,
   "metadata": {
    "tags": []
   },
   "outputs": [],
   "source": [
    "aws ${ENDPOINT_URL_OPTION} --region $REGION iotfleetwise update-decoder-manifest \\\n",
    "    --name ${DECODER_MANIFEST_NAME} \\\n",
    "    --status ACTIVE"
   ]
  },
  {
   "cell_type": "markdown",
   "metadata": {},
   "source": [
    " and wait for the status to get active:"
   ]
  },
  {
   "cell_type": "code",
   "execution_count": null,
   "metadata": {
    "tags": []
   },
   "outputs": [],
   "source": [
    "while true; do\n",
    "    sleep 5\n",
    "    DECODER_MANIFEST_SUMMARY=`aws ${ENDPOINT_URL_OPTION} --region $REGION iotfleetwise get-decoder-manifest --name ${DECODER_MANIFEST_NAME}`\n",
    "    if [ `echo ${DECODER_MANIFEST_SUMMARY} | jq -r .status` == \"ACTIVE\" ]; then\n",
    "        echo \"Decoder is ACTIVE\"\n",
    "        break\n",
    "    fi\n",
    "done"
   ]
  },
  {
   "cell_type": "markdown",
   "metadata": {
    "tags": []
   },
   "source": [
    "### Create a fleet of vehicles\n",
    "\n",
    "To deploy a campaign, we need a target for this campaign. This target can be a single vehicle, or more realistically, a fleet of vehicles. \n",
    "\n",
    "We have already provisioned one vehicle. This means we created an IoT Thing and the needed permissions and policies for it. \n",
    "\n",
    "1. Let's create a fleetwise vehicle using this IoT Thing:"
   ]
  },
  {
   "cell_type": "code",
   "execution_count": null,
   "metadata": {
    "tags": []
   },
   "outputs": [],
   "source": [
    "aws ${ENDPOINT_URL_OPTION} --region $REGION iotfleetwise create-vehicle \\\n",
    "                --decoder-manifest-arn ${DECODER_MANIFEST_ARN} \\\n",
    "                --association-behavior ValidateIotThingExists \\\n",
    "                --model-manifest-arn ${MODEL_MANIFEST_ARN} \\\n",
    "                --vehicle-name \"${VEHICLE_NAME}\""
   ]
  },
  {
   "cell_type": "markdown",
   "metadata": {},
   "source": [
    "2. Then we create a fleet:"
   ]
  },
  {
   "cell_type": "code",
   "execution_count": null,
   "metadata": {
    "tags": []
   },
   "outputs": [],
   "source": [
    "FLEET_ARN=`aws ${ENDPOINT_URL_OPTION} --region $REGION iotfleetwise create-fleet \\\n",
    "    --fleet-id ${FLEET_NAME} \\\n",
    "    --description \"Description is required\" \\\n",
    "    --signal-catalog-arn ${SIGNAL_CATALOG_ARN} | jq -r .arn`\n",
    "\n",
    "echo ${FLEET_ARN}"
   ]
  },
  {
   "cell_type": "markdown",
   "metadata": {},
   "source": [
    "3. Finally, we associate the created vehicle(s) with the fleet:"
   ]
  },
  {
   "cell_type": "code",
   "execution_count": null,
   "metadata": {
    "tags": []
   },
   "outputs": [],
   "source": [
    "aws ${ENDPOINT_URL_OPTION} --region $REGION iotfleetwise associate-vehicle-fleet \\\n",
    "                --fleet-id ${FLEET_NAME} \\\n",
    "                --vehicle-name \"${VEHICLE_NAME}\""
   ]
  },
  {
   "cell_type": "markdown",
   "metadata": {},
   "source": [
    "At this point, we are ready to define a campaign and deploy it to this fleet and all the vehicles associated with it\n",
    "\n",
    "### Create and activate a campaign to collect ROS2 data\n",
    "\n",
    "<div class=\"alert alert-block alert-info\">\n",
    "   Note:\n",
    "\n",
    "   - For the next part, if you want to use your own ROS2 messages, edit the campaign files with the fully-qualified-names of your custom signals.\n",
    "   - If you want to run the demo with the provided campaign files, then simply execute the cells below as they are.\n",
    "   - The only supported destination for ROS2 data is S3.\n",
    "\n",
    "</div>\n",
    "\n",
    "The definition of campaign for ROS2 data is similar to telemetry data. For condition-based campaign, you can use every primitive value for the trigger. However, you can only collect the whole ROS2 message, partial collection is not supported. For example, you cannot collect only the `data` field of the CompressedImage message.\n",
    "\n",
    "Example of a time-based campaign:"
   ]
  },
  {
   "cell_type": "code",
   "execution_count": null,
   "metadata": {
    "tags": []
   },
   "outputs": [
    {
     "name": "stdout",
     "output_type": "stream",
     "text": [
      "\u001b[1;39m{\n",
      "  \u001b[0m\u001b[34;1m\"spoolingMode\"\u001b[0m\u001b[1;39m: \u001b[0m\u001b[0;32m\"TO_DISK\"\u001b[0m\u001b[1;39m,\n",
      "  \u001b[0m\u001b[34;1m\"collectionScheme\"\u001b[0m\u001b[1;39m: \u001b[0m\u001b[1;39m{\n",
      "    \u001b[0m\u001b[34;1m\"timeBasedCollectionScheme\"\u001b[0m\u001b[1;39m: \u001b[0m\u001b[1;39m{\n",
      "      \u001b[0m\u001b[34;1m\"periodMs\"\u001b[0m\u001b[1;39m: \u001b[0m\u001b[0;39m10000\u001b[0m\u001b[1;39m\n",
      "    \u001b[1;39m}\u001b[0m\u001b[1;39m\n",
      "  \u001b[1;39m}\u001b[0m\u001b[1;39m,\n",
      "  \u001b[0m\u001b[34;1m\"signalsToCollect\"\u001b[0m\u001b[1;39m: \u001b[0m\u001b[1;39m[\n",
      "    \u001b[1;39m{\n",
      "      \u001b[0m\u001b[34;1m\"name\"\u001b[0m\u001b[1;39m: \u001b[0m\u001b[0;32m\"Vehicle.Cameras.Front.Image\"\u001b[0m\u001b[1;39m\n",
      "    \u001b[1;39m}\u001b[0m\u001b[1;39m,\n",
      "    \u001b[1;39m{\n",
      "      \u001b[0m\u001b[34;1m\"name\"\u001b[0m\u001b[1;39m: \u001b[0m\u001b[0;32m\"Vehicle.Speed\"\u001b[0m\u001b[1;39m\n",
      "    \u001b[1;39m}\u001b[0m\u001b[1;39m,\n",
      "    \u001b[1;39m{\n",
      "      \u001b[0m\u001b[34;1m\"name\"\u001b[0m\u001b[1;39m: \u001b[0m\u001b[0;32m\"Vehicle.Airbag.CollisionIntensity\"\u001b[0m\u001b[1;39m\n",
      "    \u001b[1;39m}\u001b[0m\u001b[1;39m,\n",
      "    \u001b[1;39m{\n",
      "      \u001b[0m\u001b[34;1m\"name\"\u001b[0m\u001b[1;39m: \u001b[0m\u001b[0;32m\"Vehicle.Acceleration\"\u001b[0m\u001b[1;39m\n",
      "    \u001b[1;39m}\u001b[0m\u001b[1;39m\n",
      "  \u001b[1;39m]\u001b[0m\u001b[1;39m\n",
      "\u001b[1;39m}\u001b[0m\n"
     ]
    }
   ],
   "source": [
    "cd ~/aws-iot-fleetwise-edge/docs/dev-guide/vision-system-data\n",
    "S3_CAMPAIGN_FILE=\"data/campaign-vision-system-data-heartbeat.json\"\n",
    "cat $S3_CAMPAIGN_FILE | jq -C"
   ]
  },
  {
   "cell_type": "markdown",
   "metadata": {},
   "source": [
    "Example condition-based campaign:"
   ]
  },
  {
   "cell_type": "code",
   "execution_count": null,
   "metadata": {
    "tags": []
   },
   "outputs": [
    {
     "name": "stdout",
     "output_type": "stream",
     "text": [
      "\u001b[1;39m{\n",
      "  \u001b[0m\u001b[34;1m\"compression\"\u001b[0m\u001b[1;39m: \u001b[0m\u001b[0;32m\"SNAPPY\"\u001b[0m\u001b[1;39m,\n",
      "  \u001b[0m\u001b[34;1m\"diagnosticsMode\"\u001b[0m\u001b[1;39m: \u001b[0m\u001b[0;32m\"OFF\"\u001b[0m\u001b[1;39m,\n",
      "  \u001b[0m\u001b[34;1m\"spoolingMode\"\u001b[0m\u001b[1;39m: \u001b[0m\u001b[0;32m\"TO_DISK\"\u001b[0m\u001b[1;39m,\n",
      "  \u001b[0m\u001b[34;1m\"collectionScheme\"\u001b[0m\u001b[1;39m: \u001b[0m\u001b[1;39m{\n",
      "    \u001b[0m\u001b[34;1m\"conditionBasedCollectionScheme\"\u001b[0m\u001b[1;39m: \u001b[0m\u001b[1;39m{\n",
      "      \u001b[0m\u001b[34;1m\"conditionLanguageVersion\"\u001b[0m\u001b[1;39m: \u001b[0m\u001b[0;39m1\u001b[0m\u001b[1;39m,\n",
      "      \u001b[0m\u001b[34;1m\"expression\"\u001b[0m\u001b[1;39m: \u001b[0m\u001b[0;32m\"$variable.`Vehicle.ABS.DemoBrakePedalPressure` > 7000\"\u001b[0m\u001b[1;39m,\n",
      "      \u001b[0m\u001b[34;1m\"minimumTriggerIntervalMs\"\u001b[0m\u001b[1;39m: \u001b[0m\u001b[0;39m1000\u001b[0m\u001b[1;39m,\n",
      "      \u001b[0m\u001b[34;1m\"triggerMode\"\u001b[0m\u001b[1;39m: \u001b[0m\u001b[0;32m\"ALWAYS\"\u001b[0m\u001b[1;39m\n",
      "    \u001b[1;39m}\u001b[0m\u001b[1;39m\n",
      "  \u001b[1;39m}\u001b[0m\u001b[1;39m,\n",
      "  \u001b[0m\u001b[34;1m\"postTriggerCollectionDuration\"\u001b[0m\u001b[1;39m: \u001b[0m\u001b[0;39m1000\u001b[0m\u001b[1;39m,\n",
      "  \u001b[0m\u001b[34;1m\"signalsToCollect\"\u001b[0m\u001b[1;39m: \u001b[0m\u001b[1;39m[\n",
      "    \u001b[1;39m{\n",
      "      \u001b[0m\u001b[34;1m\"name\"\u001b[0m\u001b[1;39m: \u001b[0m\u001b[0;32m\"Vehicle.ECM.DemoEngineTorque\"\u001b[0m\u001b[1;39m\n",
      "    \u001b[1;39m}\u001b[0m\u001b[1;39m,\n",
      "    \u001b[1;39m{\n",
      "      \u001b[0m\u001b[34;1m\"name\"\u001b[0m\u001b[1;39m: \u001b[0m\u001b[0;32m\"Vehicle.ABS.DemoBrakePedalPressure\"\u001b[0m\u001b[1;39m\n",
      "    \u001b[1;39m}\u001b[0m\u001b[1;39m,\n",
      "    \u001b[1;39m{\n",
      "      \u001b[0m\u001b[34;1m\"name\"\u001b[0m\u001b[1;39m: \u001b[0m\u001b[0;32m\"Vehicle.Cameras.Front.Image\"\u001b[0m\u001b[1;39m\n",
      "    \u001b[1;39m}\u001b[0m\u001b[1;39m,\n",
      "    \u001b[1;39m{\n",
      "      \u001b[0m\u001b[34;1m\"name\"\u001b[0m\u001b[1;39m: \u001b[0m\u001b[0;32m\"Vehicle.Speed\"\u001b[0m\u001b[1;39m\n",
      "    \u001b[1;39m}\u001b[0m\u001b[1;39m,\n",
      "    \u001b[1;39m{\n",
      "      \u001b[0m\u001b[34;1m\"name\"\u001b[0m\u001b[1;39m: \u001b[0m\u001b[0;32m\"Vehicle.Airbag.CollisionIntensity\"\u001b[0m\u001b[1;39m\n",
      "    \u001b[1;39m}\u001b[0m\u001b[1;39m,\n",
      "    \u001b[1;39m{\n",
      "      \u001b[0m\u001b[34;1m\"name\"\u001b[0m\u001b[1;39m: \u001b[0m\u001b[0;32m\"Vehicle.Acceleration\"\u001b[0m\u001b[1;39m\n",
      "    \u001b[1;39m}\u001b[0m\u001b[1;39m\n",
      "  \u001b[1;39m]\u001b[0m\u001b[1;39m\n",
      "\u001b[1;39m}\u001b[0m\n"
     ]
    }
   ],
   "source": [
    "cat data/campaign-brake-event-vision-system-data.json | jq -C"
   ]
  },
  {
   "cell_type": "markdown",
   "metadata": {},
   "source": [
    "For this demo, let's use the time-based campaign.\n",
    "\n",
    "Let's first populate the campaign definition with the correct signal catalog ARN and fleet ARN:"
   ]
  },
  {
   "cell_type": "code",
   "execution_count": null,
   "metadata": {
    "tags": []
   },
   "outputs": [
    {
     "name": "stdout",
     "output_type": "stream",
     "text": [
      "\u001b[1;39m{\n",
      "  \u001b[0m\u001b[34;1m\"spoolingMode\"\u001b[0m\u001b[1;39m: \u001b[0m\u001b[0;32m\"TO_DISK\"\u001b[0m\u001b[1;39m,\n",
      "  \u001b[0m\u001b[34;1m\"collectionScheme\"\u001b[0m\u001b[1;39m: \u001b[0m\u001b[1;39m{\n",
      "    \u001b[0m\u001b[34;1m\"timeBasedCollectionScheme\"\u001b[0m\u001b[1;39m: \u001b[0m\u001b[1;39m{\n",
      "      \u001b[0m\u001b[34;1m\"periodMs\"\u001b[0m\u001b[1;39m: \u001b[0m\u001b[0;39m10000\u001b[0m\u001b[1;39m\n",
      "    \u001b[1;39m}\u001b[0m\u001b[1;39m\n",
      "  \u001b[1;39m}\u001b[0m\u001b[1;39m,\n",
      "  \u001b[0m\u001b[34;1m\"signalsToCollect\"\u001b[0m\u001b[1;39m: \u001b[0m\u001b[1;39m[\n",
      "    \u001b[1;39m{\n",
      "      \u001b[0m\u001b[34;1m\"name\"\u001b[0m\u001b[1;39m: \u001b[0m\u001b[0;32m\"Vehicle.Cameras.Front.Image\"\u001b[0m\u001b[1;39m\n",
      "    \u001b[1;39m}\u001b[0m\u001b[1;39m,\n",
      "    \u001b[1;39m{\n",
      "      \u001b[0m\u001b[34;1m\"name\"\u001b[0m\u001b[1;39m: \u001b[0m\u001b[0;32m\"Vehicle.Speed\"\u001b[0m\u001b[1;39m\n",
      "    \u001b[1;39m}\u001b[0m\u001b[1;39m,\n",
      "    \u001b[1;39m{\n",
      "      \u001b[0m\u001b[34;1m\"name\"\u001b[0m\u001b[1;39m: \u001b[0m\u001b[0;32m\"Vehicle.Airbag.CollisionIntensity\"\u001b[0m\u001b[1;39m\n",
      "    \u001b[1;39m}\u001b[0m\u001b[1;39m,\n",
      "    \u001b[1;39m{\n",
      "      \u001b[0m\u001b[34;1m\"name\"\u001b[0m\u001b[1;39m: \u001b[0m\u001b[0;32m\"Vehicle.Acceleration\"\u001b[0m\u001b[1;39m\n",
      "    \u001b[1;39m}\u001b[0m\u001b[1;39m\n",
      "  \u001b[1;39m]\u001b[0m\u001b[1;39m,\n",
      "  \u001b[0m\u001b[34;1m\"name\"\u001b[0m\u001b[1;39m: \u001b[0m\u001b[0;32m\"FW-VSD-ROS2-fleet\"\u001b[0m\u001b[1;39m,\n",
      "  \u001b[0m\u001b[34;1m\"signalCatalogArn\"\u001b[0m\u001b[1;39m: \u001b[0m\u001b[0;32m\"arn:aws:iotfleetwise:eu-central-1:687737027363:signal-catalog/FW-VSD-ROS2-signal-catalog\"\u001b[0m\u001b[1;39m,\n",
      "  \u001b[0m\u001b[34;1m\"targetArn\"\u001b[0m\u001b[1;39m: \u001b[0m\u001b[0;32m\"arn:aws:iotfleetwise:eu-central-1:687737027363:fleet/FW-VSD-ROS2-fleet\"\u001b[0m\u001b[1;39m\n",
      "\u001b[1;39m}\u001b[0m\n"
     ]
    }
   ],
   "source": [
    "CAMPAIGN=`cat ${S3_CAMPAIGN_FILE} \\\n",
    "        | jq .name=\\\"${CAMPAIGN_NAME}\\\" \\\n",
    "        | jq .signalCatalogArn=\\\"${SIGNAL_CATALOG_ARN}\\\" \\\n",
    "        | jq .targetArn=\\\"${FLEET_ARN}\\\"`\n",
    "echo $CAMPAIGN | jq -C"
   ]
  },
  {
   "cell_type": "markdown",
   "metadata": {},
   "source": [
    "To deploy it to the vehicle, run:\n",
    "\n",
    "<div class=\"alert alert-block alert-info\">\n",
    "Note: to collect data in the json format, uncomment the second line.\n",
    "</div>"
   ]
  },
  {
   "cell_type": "code",
   "execution_count": null,
   "metadata": {
    "tags": []
   },
   "outputs": [],
   "source": [
    "DATA_FORMAT=\"PARQUET\"\n",
    "# DATA_FORMAT=\"JSON\"\n",
    "\n",
    "aws ${ENDPOINT_URL_OPTION} --region $REGION iotfleetwise create-campaign \\\n",
    "    --cli-input-json \"${CAMPAIGN}\" \\\n",
    "    --data-destination-configs \"[{\\\"s3Config\\\":{\\\"bucketArn\\\":\\\"arn:aws:s3:::${S3_BUCKET_NAME}\\\",\\\"prefix\\\":\\\"${CAMPAIGN_NAME}-s3\\\",\\\"dataFormat\\\":\\\"${DATA_FORMAT}\\\",\\\"storageCompressionFormat\\\":\\\"NONE\\\"}}]\"| jq -r .arn"
   ]
  },
  {
   "cell_type": "markdown",
   "metadata": {},
   "source": [
    "Wait for the campaign status to transition to `WAITING_FOR_APPROVAL`:"
   ]
  },
  {
   "cell_type": "code",
   "execution_count": null,
   "metadata": {
    "tags": []
   },
   "outputs": [],
   "source": [
    "while true; do\n",
    "    sleep 5\n",
    "    CAMPAIGN_STATUS=`aws ${ENDPOINT_URL_OPTION} --region $REGION iotfleetwise get-campaign --name ${CAMPAIGN_NAME}`\n",
    "    if [ `echo ${CAMPAIGN_STATUS} | jq -r .status` == \"WAITING_FOR_APPROVAL\" ]; then\n",
    "        echo \"Campaign status is WAITING_FOR_APPROVAL\"\n",
    "        break\n",
    "    fi\n",
    "done"
   ]
  },
  {
   "cell_type": "markdown",
   "metadata": {},
   "source": [
    "After successful deployment, approve your campaign by running:"
   ]
  },
  {
   "cell_type": "code",
   "execution_count": null,
   "metadata": {
    "tags": []
   },
   "outputs": [],
   "source": [
    "aws ${ENDPOINT_URL_OPTION} --region $REGION iotfleetwise update-campaign --name ${CAMPAIGN_NAME} --action APPROVE"
   ]
  },
  {
   "cell_type": "markdown",
   "metadata": {},
   "source": [
    "To verify that the campaign was deployed to the vehicle, we wait until the vehicle status transitions from `READY` to `HEALTHY`"
   ]
  },
  {
   "cell_type": "code",
   "execution_count": null,
   "metadata": {
    "tags": []
   },
   "outputs": [],
   "source": [
    "aws ${ENDPOINT_URL_OPTION} --region $REGION iotfleetwise get-vehicle-status --vehicle-name \"${VEHICLE_NAME}\""
   ]
  },
  {
   "cell_type": "code",
   "execution_count": null,
   "metadata": {
    "tags": []
   },
   "outputs": [],
   "source": [
    "while true; do\n",
    "    VEHICLE_STATUS=`aws ${ENDPOINT_URL_OPTION} --region $REGION iotfleetwise get-vehicle-status --vehicle-name \"${VEHICLE_NAME}\"`\n",
    "    for ((l=0; ; l++)); do\n",
    "        C_NAME=`echo ${VEHICLE_STATUS} | jq -r .campaigns[${l}].campaignName`\n",
    "        C_STATUS=`echo ${VEHICLE_STATUS} | jq -r .campaigns[${l}].status`\n",
    "        echo \"${C_NAME} is ${C_STATUS}\"\n",
    "        # If the campaign was not found (when the index is out-of-range jq will return 'null')\n",
    "        if [ \"${C_NAME}\" == \"null\" ]; then\n",
    "            echo \"Error: Campaign not found in vehicle status for vehicle $1\" >&2\n",
    "            kill -SIGINT $$\n",
    "        # If the campaign was found \\\n",
    "        elif [ \"${C_NAME}\" == \"${CAMPAIGN_NAME}\" ]; then\n",
    "            if [ \"${C_STATUS}\" == \"HEALTHY\" ]; then\n",
    "                break 2\n",
    "            fi\n",
    "            break\n",
    "        fi\n",
    "    done\n",
    "    sleep 5\n",
    "done"
   ]
  },
  {
   "cell_type": "markdown",
   "metadata": {},
   "source": [
    "After campaign becomes active, FWE will start collecting ROS2 data."
   ]
  },
  {
   "cell_type": "markdown",
   "metadata": {},
   "source": [
    "<div class=\"alert alert-block alert-info\">\n",
    "   Note: It can take up to 15 minutes for data to start appearing in the S3 bucket.\n",
    "</div>"
   ]
  },
  {
   "cell_type": "markdown",
   "metadata": {},
   "source": [
    "### Inspecting collected data\n",
    "\n",
    "After the data was collected and uploaded to S3 from Edge, FW processing pipeline will start working on transforming it. The buffering can take up to 15 min. By the end of processing, you will see 3 folders in your campaign bucket:\n",
    "\n",
    "- The content of **raw-data/** is uploaded directly by the FWE. This data is available in the near real time after Edge collection. Collected ROS2 message data is transferred as CDR binary (signal_byte_values).\n",
    "\n",
    "- **processed-data/** folder contains data decoded by the FW pipeline. Data is partitioned by the timestamp in the subfolders.\n",
    "\n",
    "- **unstructured-data/** folder contains extracted binary field data as files.\n",
    "\n",
    "*Note: since **sensor_msgs_msg_CompressedImage.data** field was marked as binary, you can see a link to the binary data attached, which you can find in the **unstructured-data/** folder.*\n"
   ]
  },
  {
   "cell_type": "code",
   "execution_count": null,
   "metadata": {
    "tags": []
   },
   "outputs": [],
   "source": [
    "S3_URL=\"s3://${S3_BUCKET_NAME}/${CAMPAIGN_NAME}-s3/processed-data/\"\n",
    "\n",
    "while ! COLLECTED_FILES=`aws s3 ls --recursive ${S3_URL}`; do\n",
    "    sleep 60\n",
    "done\n"
   ]
  },
  {
   "cell_type": "markdown",
   "metadata": {},
   "source": [
    "<div class=\"alert alert-block alert-info\">\n",
    "   Note: It can take up to 15 minutes for data to start appearing in the S3 bucket.\n",
    "</div>"
   ]
  },
  {
   "cell_type": "markdown",
   "metadata": {},
   "source": [
    "If the bucket did contain data, let's download some of them:"
   ]
  },
  {
   "cell_type": "code",
   "execution_count": null,
   "metadata": {
    "tags": []
   },
   "outputs": [],
   "source": [
    "cd ~/aws-iot-fleetwise-edge/docs/dev-guide/vision-system-data\n",
    "\n",
    "NUM_FILES=2\n",
    "COLLECTED_DATA_DIR=\"collected-data/\"\n",
    "mkdir -p ${COLLECTED_DATA_DIR}\n",
    "\n",
    "echo \"${COLLECTED_FILES}\" | head -n${NUM_FILES} | while read LINE; do\n",
    "    KEY=`echo ${LINE} | cut -d ' ' -f4`\n",
    "    aws s3 cp s3://${S3_BUCKET_NAME}/${KEY} ${COLLECTED_DATA_DIR}\n",
    "done"
   ]
  },
  {
   "cell_type": "markdown",
   "metadata": {},
   "source": [
    "Now let's visualize some of the data by using a helper script. The following example will plot all `x`, `y` and `z` values of `Vehicle.Acceleration.angular_velocity`. Please note the full `Vehicle.Acceleration` struct was collected, but here we are only visualizing part of it."
   ]
  },
  {
   "cell_type": "code",
   "execution_count": null,
   "metadata": {
    "tags": []
   },
   "outputs": [],
   "source": [
    "echo \"Converting from Firehose ${DATA_FORMAT} to HTML...\"\n",
    "OUTPUT_FILE_HTML=\"${COLLECTED_DATA_DIR}${VEHICLE_NAME}-${DATA_FORMAT}-acceleration.html\"\n",
    "extension=`echo \"${DATA_FORMAT}\" | tr '[:upper:]' '[:lower:]'`\n",
    "python3 $script_dir/firehose-to-html.py \\\n",
    "    --vehicle-name ${VEHICLE_NAME} \\\n",
    "    --files ${COLLECTED_DATA_DIR}*.${extension} \\\n",
    "    --include-signals 'Vehicle.Acceleration.angular_velocity.' \\\n",
    "    --html-filename ${OUTPUT_FILE_HTML}\n"
   ]
  },
  {
   "cell_type": "code",
   "execution_count": null,
   "metadata": {},
   "outputs": [],
   "source": [
    "cat ${OUTPUT_FILE_HTML} | displayHTML"
   ]
  },
  {
   "cell_type": "markdown",
   "metadata": {},
   "source": [
    "Similarly we can visualize other signals. For example, the following plots the `Vehicle.Speed` signal, which contains only the `data` value. We also include the `Image.data` signal so that we can extract the S3 filenames to download next."
   ]
  },
  {
   "cell_type": "code",
   "execution_count": null,
   "metadata": {},
   "outputs": [],
   "source": [
    "echo \"Converting from Firehose ${DATA_FORMAT} to HTML...\"\n",
    "OUTPUT_FILE_HTML=\"${COLLECTED_DATA_DIR}${VEHICLE_NAME}-${DATA_FORMAT}.html\"\n",
    "OUTPUT_FILE_S3_LINKS=\"${COLLECTED_DATA_DIR}${VEHICLE_NAME}-s3-links-${DATA_FORMAT}.txt\"\n",
    "extension=`echo \"${DATA_FORMAT}\" | tr '[:upper:]' '[:lower:]'`\n",
    "python3 $script_dir/firehose-to-html.py \\\n",
    "    --vehicle-name ${VEHICLE_NAME} \\\n",
    "    --files ${COLLECTED_DATA_DIR}*.${extension} \\\n",
    "    --include-signals 'Vehicle.Speed.data,Image.data' \\\n",
    "    --s3-links-filename ${OUTPUT_FILE_S3_LINKS} \\\n",
    "    --html-filename ${OUTPUT_FILE_HTML}\n"
   ]
  },
  {
   "cell_type": "code",
   "execution_count": null,
   "metadata": {},
   "outputs": [],
   "source": [
    "cat ${OUTPUT_FILE_HTML} | displayHTML"
   ]
  },
  {
   "cell_type": "markdown",
   "metadata": {},
   "source": [
    "Then we can download some of the images referenced in the processed files. Please note that we collect a smaller number of image samples than other signals. You can see the timestamp in the filename to correlate with the graphs above."
   ]
  },
  {
   "cell_type": "code",
   "execution_count": null,
   "metadata": {
    "tags": []
   },
   "outputs": [],
   "source": [
    "if [ -s ${OUTPUT_FILE_S3_LINKS} ]; then\n",
    "    echo \"Downloading the first 10 linked files...\"\n",
    "    i=0\n",
    "    cat ${OUTPUT_FILE_S3_LINKS} | while read LINE; do\n",
    "        if ((i < 10)); then\n",
    "        IMAGE_FILE=`basename ${LINE}.jpg`\n",
    "        # Remove random prefix so that filenames begin with date\n",
    "        IMAGE_FILE=`echo ${IMAGE_FILE} | sed -E 's/^[0-9a-f]{8}\\-[0-9a-f]{4}\\-[0-9a-f]{4}\\-[0-9a-f]{4}\\-[0-9a-f]{12}\\-//'`\n",
    "            aws s3 cp ${LINE} ${COLLECTED_DATA_DIR}${IMAGE_FILE}\n",
    "        fi\n",
    "        i=$((i+1))\n",
    "    done\n",
    "fi"
   ]
  },
  {
   "cell_type": "markdown",
   "metadata": {},
   "source": [
    "## Clean up\n",
    "\n",
    "<div class=\"alert alert-block alert-info\">\n",
    "   Note: If you clean-up the resources it will cancel any ongoing campaign.\n",
    "</div>\n",
    "\n",
    "### Suspend and delete the campaigns"
   ]
  },
  {
   "cell_type": "code",
   "execution_count": null,
   "metadata": {
    "tags": []
   },
   "outputs": [],
   "source": [
    "echo \"Suspending campaign...\"\n",
    "aws ${ENDPOINT_URL_OPTION} --region $REGION iotfleetwise update-campaign \\\n",
    "    --name ${CAMPAIGN_NAME} \\\n",
    "    --action SUSPEND\n",
    "\n",
    "echo \"Deleting campaign...\"\n",
    "aws ${ENDPOINT_URL_OPTION} --region $REGION iotfleetwise delete-campaign \\\n",
    "    --name ${CAMPAIGN_NAME}"
   ]
  },
  {
   "cell_type": "markdown",
   "metadata": {},
   "source": [
    "### Disassociate the vehicle(s) from fleet"
   ]
  },
  {
   "cell_type": "code",
   "execution_count": null,
   "metadata": {
    "tags": []
   },
   "outputs": [],
   "source": [
    "aws ${ENDPOINT_URL_OPTION} --region $REGION iotfleetwise disassociate-vehicle-fleet \\\n",
    "    --fleet-id ${FLEET_NAME} \\\n",
    "    --vehicle-name \"${VEHICLE_NAME}\""
   ]
  },
  {
   "cell_type": "markdown",
   "metadata": {},
   "source": [
    "### Delete the vehicle"
   ]
  },
  {
   "cell_type": "code",
   "execution_count": null,
   "metadata": {
    "tags": []
   },
   "outputs": [
    {
     "name": "stdout",
     "output_type": "stream",
     "text": [
      "{\n",
      "    \"vehicleName\": \"FW-VSD-ROS2-vehicle\",\n",
      "    \"arn\": \"arn:aws:iotfleetwise:eu-central-1:687737027363:vehicle/FW-VSD-ROS2-vehicle\"\n",
      "}\n"
     ]
    }
   ],
   "source": [
    "aws ${ENDPOINT_URL_OPTION} --region $REGION iotfleetwise delete-vehicle \\\n",
    "    --vehicle-name \"${VEHICLE_NAME}\""
   ]
  },
  {
   "cell_type": "markdown",
   "metadata": {
    "tags": []
   },
   "source": [
    "### Delete the fleet"
   ]
  },
  {
   "cell_type": "code",
   "execution_count": null,
   "metadata": {
    "tags": []
   },
   "outputs": [],
   "source": [
    "echo \"Deleting fleet...\"\n",
    "aws ${ENDPOINT_URL_OPTION} --region $REGION iotfleetwise delete-fleet \\\n",
    "    --fleet-id ${FLEET_NAME}"
   ]
  },
  {
   "cell_type": "markdown",
   "metadata": {},
   "source": [
    "### Delete the decoder manifest"
   ]
  },
  {
   "cell_type": "code",
   "execution_count": null,
   "metadata": {
    "tags": []
   },
   "outputs": [],
   "source": [
    "echo \"Deleting decoder manifest...\"\n",
    "aws ${ENDPOINT_URL_OPTION} --region $REGION iotfleetwise delete-decoder-manifest \\\n",
    "    --name ${DECODER_MANIFEST_NAME}"
   ]
  },
  {
   "cell_type": "markdown",
   "metadata": {},
   "source": [
    "### Delete the model manifest"
   ]
  },
  {
   "cell_type": "code",
   "execution_count": null,
   "metadata": {
    "tags": []
   },
   "outputs": [],
   "source": [
    "echo \"Deleting model manifest...\"\n",
    "aws ${ENDPOINT_URL_OPTION} --region $REGION iotfleetwise delete-model-manifest \\\n",
    "    --name ${MODEL_MANIFEST_NAME}"
   ]
  },
  {
   "cell_type": "markdown",
   "metadata": {},
   "source": [
    "### Delete the signal catalog"
   ]
  },
  {
   "cell_type": "code",
   "execution_count": null,
   "metadata": {
    "tags": []
   },
   "outputs": [],
   "source": [
    "echo \"Deleting signal catalog...\"\n",
    "aws ${ENDPOINT_URL_OPTION} --region $REGION iotfleetwise delete-signal-catalog \\\n",
    "    --name ${SIGNAL_CATALOG_NAME}"
   ]
  },
  {
   "cell_type": "markdown",
   "metadata": {},
   "source": [
    "### Clean up all resources created by the `provision.sh` script:"
   ]
  },
  {
   "cell_type": "code",
   "execution_count": null,
   "metadata": {
    "tags": []
   },
   "outputs": [],
   "source": [
    "cd ~/aws-iot-fleetwise-edge\n",
    "tools/provision.sh \\\n",
    "    --vehicle-name ${VEHICLE_NAME} \\\n",
    "    --region $REGION \\\n",
    "    --only-clean-up"
   ]
  },
  {
   "cell_type": "markdown",
   "metadata": {},
   "source": [
    "### (Optional) Clean up the S3 bucket\n",
    "\n",
    "<div class=\"alert alert-block alert-info\">\n",
    "Note: If you don't need the bucket/folder anymore, uncomment the lines below to delete them.\n",
    "</div>"
   ]
  },
  {
   "cell_type": "code",
   "execution_count": null,
   "metadata": {
    "tags": []
   },
   "outputs": [],
   "source": [
    "# Uncomment to delete the folder\n",
    "#aws s3 rm s3://${S3_BUCKET_NAME}/${CAMPAIGN_NAME}-s3 --recursive --quiet --region $REGION\n",
    "\n",
    "# Uncomment to delete the bucket itself\n",
    "#aws s3api delete-bucket --bucket ${S3_BUCKET_NAME} --region $REGION"
   ]
  },
  {
   "cell_type": "markdown",
   "metadata": {},
   "source": [
    "### Delete the AWS CloudFormation stack for the AWS IoT Credentials Provider role alias, where `<CRED_STACK_NAME>` was your chosen stack name:"
   ]
  },
  {
   "cell_type": "code",
   "execution_count": null,
   "metadata": {
    "tags": []
   },
   "outputs": [],
   "source": [
    "aws cloudformation delete-stack --region $REGION --stack-name \"${CRED_STACK_NAME}\" "
   ]
  },
  {
   "cell_type": "markdown",
   "metadata": {},
   "source": [
    "### Kill the background process that replays the rosbag and the FWE process"
   ]
  },
  {
   "cell_type": "code",
   "execution_count": null,
   "metadata": {
    "tags": []
   },
   "outputs": [],
   "source": [
    "kill $ROSBAG_PID\n",
    "kill $FWE_PID"
   ]
  }
 ],
 "metadata": {
  "kernelspec": {
   "display_name": "Bash",
   "language": "bash",
   "name": "bash"
  },
  "language_info": {
   "codemirror_mode": "shell",
   "file_extension": ".sh",
   "mimetype": "text/x-sh",
   "name": "bash"
  }
 },
 "nbformat": 4,
 "nbformat_minor": 4
}
